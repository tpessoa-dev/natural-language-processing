{
  "nbformat": 4,
  "nbformat_minor": 0,
  "metadata": {
    "colab": {
      "name": "Aula 3-6 IA PLN - Demo.ipynb",
      "provenance": [],
      "collapsed_sections": []
    },
    "kernelspec": {
      "name": "python3",
      "display_name": "Python 3"
    }
  },
  "cells": [
    {
      "cell_type": "markdown",
      "metadata": {
        "id": "JdelQOET5rDj"
      },
      "source": [
        "#**Processamento de Linguagem Natural**\n",
        "\n",
        "---\n"
      ]
    },
    {
      "cell_type": "markdown",
      "metadata": {
        "id": "K0wg8wf1GSeD"
      },
      "source": [
        "## Stemmer (Stemização)\n",
        "\n",
        "---"
      ]
    },
    {
      "cell_type": "code",
      "metadata": {
        "id": "yfwMue5RGR8B",
        "colab": {
          "base_uri": "https://localhost:8080/"
        },
        "outputId": "6b2352a2-6f13-430e-f5c3-b553f5797940"
      },
      "source": [
        "from nltk.stem import PorterStemmer\n",
        "\n",
        "ps = PorterStemmer()\n",
        "exemplos = [\"connection\",\"connections\",\"connective\",\"connecting\",\"connected\"]\n",
        "print(exemplos)\n",
        "\n",
        "for word in exemplos:\n",
        "  print(ps.stem(word))"
      ],
      "execution_count": 1,
      "outputs": [
        {
          "output_type": "stream",
          "text": [
            "['connection', 'connections', 'connective', 'connecting', 'connected']\n",
            "connect\n",
            "connect\n",
            "connect\n",
            "connect\n",
            "connect\n"
          ],
          "name": "stdout"
        }
      ]
    },
    {
      "cell_type": "code",
      "metadata": {
        "id": "YiXeQyMcAx4Y",
        "colab": {
          "base_uri": "https://localhost:8080/"
        },
        "outputId": "c3519eca-56d5-4e73-f7b8-0f3ce0428f5d"
      },
      "source": [
        "# Outro exemplo\n",
        "ps = PorterStemmer()\n",
        "exemplos = [\"go\",\"going\",\"goes\",\"gone\",\"went\"]\n",
        "print(exemplos)\n",
        "\n",
        "for word in exemplos:\n",
        "  print(ps.stem(word))"
      ],
      "execution_count": 2,
      "outputs": [
        {
          "output_type": "stream",
          "text": [
            "['go', 'going', 'goes', 'gone', 'went']\n",
            "go\n",
            "go\n",
            "goe\n",
            "gone\n",
            "went\n"
          ],
          "name": "stdout"
        }
      ]
    },
    {
      "cell_type": "code",
      "metadata": {
        "id": "aIvuXLMeqUd9",
        "colab": {
          "base_uri": "https://localhost:8080/"
        },
        "outputId": "a07581c7-a9b3-4d31-e1c0-1de2fc59b462"
      },
      "source": [
        "# Stemização\n",
        "from nltk.stem import PorterStemmer\n",
        "from nltk.stem.rslp import RSLPStemmer\n",
        "import nltk \n",
        "nltk.download('rslp')\n",
        "\n",
        "doc = [\"pedra\",\"pedreira\",\"pedreiro\"]\n",
        "print(doc)\n",
        "\n",
        "ps = PorterStemmer()\n",
        "rslp = RSLPStemmer()\n",
        "\n",
        "for word in doc:\n",
        "    print(ps.stem(word), ' - ', rslp.stem(word))"
      ],
      "execution_count": 3,
      "outputs": [
        {
          "output_type": "stream",
          "text": [
            "[nltk_data] Downloading package rslp to /root/nltk_data...\n",
            "[nltk_data]   Unzipping stemmers/rslp.zip.\n",
            "['pedra', 'pedreira', 'pedreiro']\n",
            "pedra  -  pedr\n",
            "pedreira  -  pedr\n",
            "pedreiro  -  pedr\n"
          ],
          "name": "stdout"
        }
      ]
    },
    {
      "cell_type": "markdown",
      "metadata": {
        "id": "bVDjrt-eT4MV"
      },
      "source": [
        "## Aplicar Stemmer em uma frase"
      ]
    },
    {
      "cell_type": "code",
      "metadata": {
        "id": "nGuydG4xrJFd",
        "colab": {
          "base_uri": "https://localhost:8080/",
          "height": 108
        },
        "outputId": "87247bca-b561-49b6-b1e6-512c2f4a06b7"
      },
      "source": [
        "import pandas as pd\n",
        "\n",
        "df = pd.DataFrame({\n",
        "    'text': [\n",
        "      'Sobre MBA? Eu gostei muito do MBA da FIAP',\n",
        "      'O MBA da FIAP pode melhorar, não gostei muito'\n",
        "    ],\n",
        "    'class': [\n",
        "        'positivo',\n",
        "        'negativo'\n",
        "    ]})\n",
        "\n",
        "df.head()"
      ],
      "execution_count": 4,
      "outputs": [
        {
          "output_type": "execute_result",
          "data": {
            "text/html": [
              "<div>\n",
              "<style scoped>\n",
              "    .dataframe tbody tr th:only-of-type {\n",
              "        vertical-align: middle;\n",
              "    }\n",
              "\n",
              "    .dataframe tbody tr th {\n",
              "        vertical-align: top;\n",
              "    }\n",
              "\n",
              "    .dataframe thead th {\n",
              "        text-align: right;\n",
              "    }\n",
              "</style>\n",
              "<table border=\"1\" class=\"dataframe\">\n",
              "  <thead>\n",
              "    <tr style=\"text-align: right;\">\n",
              "      <th></th>\n",
              "      <th>text</th>\n",
              "      <th>class</th>\n",
              "    </tr>\n",
              "  </thead>\n",
              "  <tbody>\n",
              "    <tr>\n",
              "      <th>0</th>\n",
              "      <td>Sobre MBA? Eu gostei muito do MBA da FIAP</td>\n",
              "      <td>positivo</td>\n",
              "    </tr>\n",
              "    <tr>\n",
              "      <th>1</th>\n",
              "      <td>O MBA da FIAP pode melhorar, não gostei muito</td>\n",
              "      <td>negativo</td>\n",
              "    </tr>\n",
              "  </tbody>\n",
              "</table>\n",
              "</div>"
            ],
            "text/plain": [
              "                                            text     class\n",
              "0      Sobre MBA? Eu gostei muito do MBA da FIAP  positivo\n",
              "1  O MBA da FIAP pode melhorar, não gostei muito  negativo"
            ]
          },
          "metadata": {
            "tags": []
          },
          "execution_count": 4
        }
      ]
    },
    {
      "cell_type": "code",
      "metadata": {
        "id": "S6_SwqMGibny",
        "colab": {
          "base_uri": "https://localhost:8080/"
        },
        "outputId": "7960fd50-b9df-4d54-d988-e715c98f44b3"
      },
      "source": [
        "from nltk.tokenize import word_tokenize\n",
        "import nltk\n",
        "nltk.download('punkt')\n",
        "\n",
        "df['tokens'] = df.text.apply(word_tokenize)\n",
        "df['tokens']"
      ],
      "execution_count": 5,
      "outputs": [
        {
          "output_type": "stream",
          "text": [
            "[nltk_data] Downloading package punkt to /root/nltk_data...\n",
            "[nltk_data]   Unzipping tokenizers/punkt.zip.\n"
          ],
          "name": "stdout"
        },
        {
          "output_type": "execute_result",
          "data": {
            "text/plain": [
              "0    [Sobre, MBA, ?, Eu, gostei, muito, do, MBA, da...\n",
              "1    [O, MBA, da, FIAP, pode, melhorar, ,, não, gos...\n",
              "Name: tokens, dtype: object"
            ]
          },
          "metadata": {
            "tags": []
          },
          "execution_count": 5
        }
      ]
    },
    {
      "cell_type": "code",
      "metadata": {
        "id": "HBJ-oLU9T3jT",
        "colab": {
          "base_uri": "https://localhost:8080/"
        },
        "outputId": "79a7fd4e-37ed-466c-f6ac-435e6b9fb3fb"
      },
      "source": [
        "from nltk.stem import PorterStemmer\n",
        "from nltk.stem.rslp import RSLPStemmer\n",
        "import nltk\n",
        "nltk.download('rslp')\n",
        "\n",
        "tokens = df.tokens[0]\n",
        "tokens = tokens + df.tokens[1]\n",
        "\n",
        "ps = PorterStemmer()\n",
        "rslp = RSLPStemmer()\n",
        "\n",
        "for tok in tokens:\n",
        "  #print('Original: %s \\t\\t  PorterStemmer: %s \\t\\t RSLPStemmer: %s' % (tok, ps.stem(tok), rslp.stem(tok)))\n",
        "  print(f'Original: {tok:{11}} PorterStemmer: {ps.stem(tok):{10}} RSLPStemmer: {rslp.stem(tok):{10}}')\n"
      ],
      "execution_count": 8,
      "outputs": [
        {
          "output_type": "stream",
          "text": [
            "[nltk_data] Downloading package rslp to /root/nltk_data...\n",
            "[nltk_data]   Package rslp is already up-to-date!\n",
            "Original: Sobre       PorterStemmer: sobr       RSLPStemmer: sobr      \n",
            "Original: MBA         PorterStemmer: mba        RSLPStemmer: mba       \n",
            "Original: ?           PorterStemmer: ?          RSLPStemmer: ?         \n",
            "Original: Eu          PorterStemmer: Eu         RSLPStemmer: eu        \n",
            "Original: gostei      PorterStemmer: gostei     RSLPStemmer: gost      \n",
            "Original: muito       PorterStemmer: muito      RSLPStemmer: muit      \n",
            "Original: do          PorterStemmer: do         RSLPStemmer: do        \n",
            "Original: MBA         PorterStemmer: mba        RSLPStemmer: mba       \n",
            "Original: da          PorterStemmer: da         RSLPStemmer: da        \n",
            "Original: FIAP        PorterStemmer: fiap       RSLPStemmer: fiap      \n",
            "Original: O           PorterStemmer: O          RSLPStemmer: o         \n",
            "Original: MBA         PorterStemmer: mba        RSLPStemmer: mba       \n",
            "Original: da          PorterStemmer: da         RSLPStemmer: da        \n",
            "Original: FIAP        PorterStemmer: fiap       RSLPStemmer: fiap      \n",
            "Original: pode        PorterStemmer: pode       RSLPStemmer: pod       \n",
            "Original: melhorar    PorterStemmer: melhorar   RSLPStemmer: melhor    \n",
            "Original: ,           PorterStemmer: ,          RSLPStemmer: ,         \n",
            "Original: não         PorterStemmer: não        RSLPStemmer: não       \n",
            "Original: gostei      PorterStemmer: gostei     RSLPStemmer: gost      \n",
            "Original: muito       PorterStemmer: muito      RSLPStemmer: muit      \n"
          ],
          "name": "stdout"
        }
      ]
    },
    {
      "cell_type": "code",
      "metadata": {
        "id": "37nqnDh-qVnA"
      },
      "source": [
        "# O Porter foi criado para o inglês e o RSLP para o português"
      ],
      "execution_count": null,
      "outputs": []
    },
    {
      "cell_type": "markdown",
      "metadata": {
        "id": "9QGwgdjvSW7L"
      },
      "source": [
        "NLTK = Natural Language Tool Kit\n",
        "\n",
        "RSLP = Removedor de Sulfixos da Língua Portuguesa\n"
      ]
    },
    {
      "cell_type": "markdown",
      "metadata": {
        "id": "zhTMo3h0oFA7"
      },
      "source": [
        "## Quantos unigramas existem após aplicar Stemmer?"
      ]
    },
    {
      "cell_type": "code",
      "metadata": {
        "id": "YlUI2NgDhufq",
        "colab": {
          "base_uri": "https://localhost:8080/",
          "height": 35
        },
        "outputId": "0c06083c-0410-4812-a612-1e0f7af4f739"
      },
      "source": [
        "','.join(['Anderson', 'Dourado'])"
      ],
      "execution_count": 11,
      "outputs": [
        {
          "output_type": "execute_result",
          "data": {
            "application/vnd.google.colaboratory.intrinsic+json": {
              "type": "string"
            },
            "text/plain": [
              "'Anderson,Dourado'"
            ]
          },
          "metadata": {
            "tags": []
          },
          "execution_count": 11
        }
      ]
    },
    {
      "cell_type": "code",
      "metadata": {
        "id": "k_3LR9sO0hRm",
        "colab": {
          "base_uri": "https://localhost:8080/"
        },
        "outputId": "4165fd6c-93ae-4fa5-d708-2e33fa0a3576"
      },
      "source": [
        "from nltk.stem.rslp import RSLPStemmer\n",
        "from sklearn.feature_extraction.text import CountVectorizer\n",
        "\n",
        "rslp = RSLPStemmer()\n",
        "\n",
        "def stem_pandas(line):\n",
        "  return ' '.join([rslp.stem(token) for token in line])\n",
        "\n",
        "df['stemmer'] = df.tokens.apply(stem_pandas)\n",
        "\n",
        "df.stemmer.head()"
      ],
      "execution_count": 12,
      "outputs": [
        {
          "output_type": "execute_result",
          "data": {
            "text/plain": [
              "0      sobr mba ? eu gost muit do mba da fiap\n",
              "1    o mba da fiap pod melhor , não gost muit\n",
              "Name: stemmer, dtype: object"
            ]
          },
          "metadata": {
            "tags": []
          },
          "execution_count": 12
        }
      ]
    },
    {
      "cell_type": "code",
      "metadata": {
        "id": "NFiA2cAORmpc",
        "colab": {
          "base_uri": "https://localhost:8080/"
        },
        "outputId": "f39a0325-ba00-4222-da09-c136326f6724"
      },
      "source": [
        "import nltk\n",
        "nltk.download('stopwords')\n",
        "\n",
        "stopwords = nltk.corpus.stopwords.words('portuguese')\n",
        "vect = CountVectorizer(ngram_range=(1,1))\n",
        "vect.fit(df.stemmer)\n",
        "\n",
        "text_vect = vect.transform(df.stemmer)\n",
        "\n",
        "print('UNIGRAMAS', text_vect.shape[1])\n",
        "\n",
        "#print(text_vect.shape[0])\n",
        "#print(text_vect.shape[1])"
      ],
      "execution_count": 13,
      "outputs": [
        {
          "output_type": "stream",
          "text": [
            "[nltk_data] Downloading package stopwords to /root/nltk_data...\n",
            "[nltk_data]   Unzipping corpora/stopwords.zip.\n",
            "UNIGRAMAS 11\n"
          ],
          "name": "stdout"
        }
      ]
    },
    {
      "cell_type": "markdown",
      "metadata": {
        "id": "ofA1n_IMkb_t"
      },
      "source": [
        "Unigramas sem aplicar o stemmer"
      ]
    },
    {
      "cell_type": "code",
      "metadata": {
        "id": "QAfnfeu8kbSI",
        "colab": {
          "base_uri": "https://localhost:8080/"
        },
        "outputId": "18e96da3-9526-4c16-b75e-9fa08abaab8e"
      },
      "source": [
        "stopwords = nltk.corpus.stopwords.words('portuguese')\n",
        "#vect = CountVectorizer(ngram_range=(1,1))\n",
        "vect = CountVectorizer(ngram_range=(1,1), stop_words=stopwords)\n",
        "vect.fit(df.text)\n",
        "\n",
        "text_vect = vect.transform(df.text)\n",
        "\n",
        "print('UNIGRAMAS sem STOPWORDS', text_vect.shape[1])"
      ],
      "execution_count": 14,
      "outputs": [
        {
          "output_type": "stream",
          "text": [
            "UNIGRAMAS sem STOPWORDS 6\n"
          ],
          "name": "stdout"
        }
      ]
    },
    {
      "cell_type": "code",
      "metadata": {
        "id": "wCHgWx60kbPq"
      },
      "source": [
        "# Não diferença pois o texto não tem muitas variações de palavras que possam ser reduzidas"
      ],
      "execution_count": null,
      "outputs": []
    },
    {
      "cell_type": "markdown",
      "metadata": {
        "id": "kr8ZxTp-pVPC"
      },
      "source": [
        "Outra função de stematização do NLTK"
      ]
    },
    {
      "cell_type": "code",
      "metadata": {
        "id": "ngaGMoCjpL4Q",
        "colab": {
          "base_uri": "https://localhost:8080/"
        },
        "outputId": "9c419329-a3bf-4c9e-dd68-13e9ec087b0a"
      },
      "source": [
        "from nltk.stem import SnowballStemmer\n",
        "\n",
        "print(\" \".join(SnowballStemmer.languages)) # See which languages are supported"
      ],
      "execution_count": 15,
      "outputs": [
        {
          "output_type": "stream",
          "text": [
            "arabic danish dutch english finnish french german hungarian italian norwegian porter portuguese romanian russian spanish swedish\n"
          ],
          "name": "stdout"
        }
      ]
    },
    {
      "cell_type": "code",
      "metadata": {
        "id": "v1inKMGdpLu4",
        "colab": {
          "base_uri": "https://localhost:8080/"
        },
        "outputId": "79d063da-5a2d-45ee-ddf6-ae40965e456d"
      },
      "source": [
        "stemmer = SnowballStemmer(\"portuguese\") # Escolha a linguagem\n",
        "\n",
        "palavras = ['pedra','pedreira','criar']\n",
        "\n",
        "for p in palavras:\n",
        "  print(stemmer.stem(p)) # Stem a palavra"
      ],
      "execution_count": 16,
      "outputs": [
        {
          "output_type": "stream",
          "text": [
            "pedr\n",
            "pedreir\n",
            "cri\n"
          ],
          "name": "stdout"
        }
      ]
    },
    {
      "cell_type": "markdown",
      "metadata": {
        "id": "cDR2TTl-EnXs"
      },
      "source": [
        "## Lemmatizer (Lematização)\n",
        "\n",
        "---"
      ]
    },
    {
      "cell_type": "code",
      "metadata": {
        "id": "cBLzygcrElkJ",
        "colab": {
          "base_uri": "https://localhost:8080/"
        },
        "outputId": "de907899-6895-4170-db84-889e16a5ecf7"
      },
      "source": [
        "from nltk.stem import WordNetLemmatizer\n",
        "import nltk\n",
        "nltk.download('wordnet')\n",
        "\n",
        "exemplos = [\"connection\",\"connections\",\"connective\",\"connecting\",\"connected\"]\n",
        "wnl = WordNetLemmatizer()\n",
        "\n",
        "for word in exemplos:\n",
        "    print(wnl.lemmatize(word,\"v\"))"
      ],
      "execution_count": 17,
      "outputs": [
        {
          "output_type": "stream",
          "text": [
            "[nltk_data] Downloading package wordnet to /root/nltk_data...\n",
            "[nltk_data]   Unzipping corpora/wordnet.zip.\n",
            "connection\n",
            "connections\n",
            "connective\n",
            "connect\n",
            "connect\n"
          ],
          "name": "stdout"
        }
      ]
    },
    {
      "cell_type": "code",
      "metadata": {
        "id": "2wTZpIniE39a",
        "colab": {
          "base_uri": "https://localhost:8080/"
        },
        "outputId": "925134e7-6ddd-4016-b271-7d8469752da1"
      },
      "source": [
        "exemplos = [\"go\",\"going\",\"goes\",\"gone\",\"went\"]\n",
        "wnl = WordNetLemmatizer()\n",
        "\n",
        "for word in exemplos:\n",
        "  print(wnl.lemmatize(word,\"v\"))"
      ],
      "execution_count": 18,
      "outputs": [
        {
          "output_type": "stream",
          "text": [
            "go\n",
            "go\n",
            "go\n",
            "go\n",
            "go\n"
          ],
          "name": "stdout"
        }
      ]
    },
    {
      "cell_type": "markdown",
      "metadata": {
        "id": "Ndw8rAQbofuL"
      },
      "source": [
        "Vamos ver lematização em palavras do português mais para frente, pois o NLTK não possui lematização em português.\n"
      ]
    },
    {
      "cell_type": "markdown",
      "metadata": {
        "id": "IqCkOL0C5-FC"
      },
      "source": [
        "## Contagem de Termos - UNIGRAMA\n",
        "\n",
        "---"
      ]
    },
    {
      "cell_type": "code",
      "metadata": {
        "id": "d4CKjpwJ2DD2"
      },
      "source": [
        "import pandas as pd\n",
        "df = pd.DataFrame({\n",
        "    'text': [\n",
        "      'Sobre MBA ? Eu gostei muito do MBA da FIAP',\n",
        "      'O MBA da FIAP pode melhorar, não gostei muito'\n",
        "    ],\n",
        "    'class': [\n",
        "        'positivo',\n",
        "        'negativo'\n",
        "    ]})"
      ],
      "execution_count": 19,
      "outputs": []
    },
    {
      "cell_type": "code",
      "metadata": {
        "id": "G6kSv69h2jKs",
        "colab": {
          "base_uri": "https://localhost:8080/"
        },
        "outputId": "9df64e4d-108a-4089-f105-b89f243357e3"
      },
      "source": [
        "from sklearn.feature_extraction.text import CountVectorizer\n",
        "\n",
        "vect = CountVectorizer(ngram_range=(1,1))\n",
        "#vect = CountVectorizer(ngram_range=(1,3))\n",
        "vect.fit(df.text)\n",
        "count_vect = vect.transform(df.text)\n",
        "\n",
        "print(pd.DataFrame(count_vect.A, columns=vect.get_feature_names()).T.to_string())\n",
        "#print(pd.DataFrame(count_vect.A, columns=vect.get_feature_names()).to_string())"
      ],
      "execution_count": 20,
      "outputs": [
        {
          "output_type": "stream",
          "text": [
            "          0  1\n",
            "da        1  1\n",
            "do        1  0\n",
            "eu        1  0\n",
            "fiap      1  1\n",
            "gostei    1  1\n",
            "mba       2  1\n",
            "melhorar  0  1\n",
            "muito     1  1\n",
            "não       0  1\n",
            "pode      0  1\n",
            "sobre     1  0\n"
          ],
          "name": "stdout"
        }
      ]
    },
    {
      "cell_type": "markdown",
      "metadata": {
        "id": "TUTv5MDZE0jr"
      },
      "source": [
        "## TF"
      ]
    },
    {
      "cell_type": "code",
      "metadata": {
        "id": "LHgB0DuUCn65",
        "colab": {
          "base_uri": "https://localhost:8080/"
        },
        "outputId": "4977691b-a5cd-4d54-c72c-f7bf23fc9e82"
      },
      "source": [
        "from sklearn.feature_extraction.text import TfidfVectorizer\n",
        "\n",
        "# ao usar o TfidfVectorizer() o default ngram_range=unigrama, use_idf=True, norm='l2', lowercase=True, max_df e min_df=1, smooth_idf=True, sublinear_tf=False\n",
        "vect = TfidfVectorizer(ngram_range=(1,1), use_idf=False, norm='l1')\n",
        "vect.fit(df.text)\n",
        "tf_vect = vect.transform(df.text)\n",
        "\n",
        "print(pd.DataFrame(tf_vect.A, columns=vect.get_feature_names()).T.to_string())"
      ],
      "execution_count": 21,
      "outputs": [
        {
          "output_type": "stream",
          "text": [
            "                 0      1\n",
            "da        0.111111  0.125\n",
            "do        0.111111  0.000\n",
            "eu        0.111111  0.000\n",
            "fiap      0.111111  0.125\n",
            "gostei    0.111111  0.125\n",
            "mba       0.222222  0.125\n",
            "melhorar  0.000000  0.125\n",
            "muito     0.111111  0.125\n",
            "não       0.000000  0.125\n",
            "pode      0.000000  0.125\n",
            "sobre     0.111111  0.000\n"
          ],
          "name": "stdout"
        }
      ]
    },
    {
      "cell_type": "code",
      "metadata": {
        "id": "qCpY8Zww3o47"
      },
      "source": [
        "#vect.get_stop_words()\n",
        "#vect.get_params(deep=True)"
      ],
      "execution_count": null,
      "outputs": []
    },
    {
      "cell_type": "markdown",
      "metadata": {
        "id": "dxG2g5mInypI"
      },
      "source": [
        "## TF-IDF\n"
      ]
    },
    {
      "cell_type": "code",
      "metadata": {
        "id": "XcJsUXuHFTnM",
        "colab": {
          "base_uri": "https://localhost:8080/"
        },
        "outputId": "0cef67fe-188e-4272-8ba8-8218df896df4"
      },
      "source": [
        "from sklearn.feature_extraction.text import TfidfVectorizer\n",
        "\n",
        "# ao usar o TfidfVectorizer() o default ngram_range=unigrama, use_idf=True, norm='l2', lowercase=True, max_df e min_df=1, smooth_idf=True, sublinear_tf=False\n",
        "vect = TfidfVectorizer() \n",
        "vect.fit(df.text)\n",
        "tfidf_vect = vect.transform(df.text)\n",
        "\n",
        "print(pd.DataFrame(tfidf_vect.A, columns=vect.get_feature_names()).T.to_string())"
      ],
      "execution_count": 22,
      "outputs": [
        {
          "output_type": "stream",
          "text": [
            "                 0         1\n",
            "da        0.267970  0.302531\n",
            "do        0.376623  0.000000\n",
            "eu        0.376623  0.000000\n",
            "fiap      0.267970  0.302531\n",
            "gostei    0.267970  0.302531\n",
            "mba       0.535941  0.302531\n",
            "melhorar  0.000000  0.425196\n",
            "muito     0.267970  0.302531\n",
            "não       0.000000  0.425196\n",
            "pode      0.000000  0.425196\n",
            "sobre     0.376623  0.000000\n"
          ],
          "name": "stdout"
        }
      ]
    },
    {
      "cell_type": "markdown",
      "metadata": {
        "id": "zb4iAoq2ZoqW"
      },
      "source": [
        "Existe uma diferenca no cálculo original do TF-IDF apresentados pelos livros em relação ao padrão urilizado pelo Scikit Learn. A ideia dessa diferença é evitar divisões por zero.\n",
        "\n",
        "Formúla original:\n",
        "\n",
        "    TF-IDFw1 = TFw1 * IDFw1\n",
        "    IDFw1 = loge(D/Dw1)\n",
        "    D = total de documentos | Dw1 = Quantidade de documentos em que o termo aparece\n",
        "\n",
        "----\n",
        "Formúla do sklearn:\n",
        "Muda o cálculo do IDFw1\n",
        "\n",
        "    IDFw! = loge(1+D/1+Dw1)+1\n",
        "\n",
        "Com o paâmetro smooth_idf=False\n",
        "\n",
        "    IDFw! = loge(D/Dw1)+1\n",
        "\n"
      ]
    },
    {
      "cell_type": "code",
      "metadata": {
        "id": "OYvr0cay4JbU",
        "colab": {
          "base_uri": "https://localhost:8080/"
        },
        "outputId": "73a9e91b-acdf-4260-e533-b6850a0d1fa1"
      },
      "source": [
        "from sklearn.feature_extraction.text import TfidfVectorizer\n",
        "\n",
        "# ao usar o TfidfVectorizer() o default ngram_range=unigrama, use_idf=True, norm='l2', lowercase=True, max_df e min_df=1, smooth_idf=True, sublinear_tf=False\n",
        "vect = TfidfVectorizer(smooth_idf=False)\n",
        "#vect = TfidfVectorizer(smooth_idf=False, max_df=1, min_df=1)\n",
        "vect.fit(df.text)\n",
        "tfidf_vect = vect.transform(df.text)\n",
        "\n",
        "print(pd.DataFrame(tfidf_vect.A, columns=vect.get_feature_names()).T.to_string())"
      ],
      "execution_count": 23,
      "outputs": [
        {
          "output_type": "stream",
          "text": [
            "                 0         1\n",
            "da        0.245439  0.271161\n",
            "do        0.415564  0.000000\n",
            "eu        0.415564  0.000000\n",
            "fiap      0.245439  0.271161\n",
            "gostei    0.245439  0.271161\n",
            "mba       0.490877  0.271161\n",
            "melhorar  0.000000  0.459115\n",
            "muito     0.245439  0.271161\n",
            "não       0.000000  0.459115\n",
            "pode      0.000000  0.459115\n",
            "sobre     0.415564  0.000000\n"
          ],
          "name": "stdout"
        }
      ]
    },
    {
      "cell_type": "code",
      "metadata": {
        "id": "HEps9zD-u4v_"
      },
      "source": [
        "'''\n",
        "tfidf_vect.data\n",
        "tfidf_vect.A\n",
        "vect.get_feature_names()\n",
        "'''"
      ],
      "execution_count": null,
      "outputs": []
    },
    {
      "cell_type": "markdown",
      "metadata": {
        "id": "i0WHVK8HYG5r"
      },
      "source": [
        "https://scikit-learn.org/stable/modules/generated/sklearn.feature_extraction.text.TfidfVectorizer.html#sklearn.feature_extraction.text.TfidfVectorizer\n",
        "\n",
        "\n",
        "https://scikit-learn.org/stable/modules/feature_extraction.html\n",
        "\n",
        "O cáculo do TF-IDF das classes TfidfTransformer e TfidfVectorizer do scikit-learn diferem ligeiramente da notação padrão de livros didáticos que define o IDF.\n"
      ]
    },
    {
      "cell_type": "markdown",
      "metadata": {
        "id": "owZf_DaUomwT"
      },
      "source": [
        "#**Modelo com n-grama**\n",
        "---"
      ]
    },
    {
      "cell_type": "code",
      "metadata": {
        "id": "pbiAa2z89dy3",
        "colab": {
          "base_uri": "https://localhost:8080/",
          "height": 108
        },
        "outputId": "3e01bcc8-6029-42cb-f0b0-457d1f827102"
      },
      "source": [
        "df"
      ],
      "execution_count": 24,
      "outputs": [
        {
          "output_type": "execute_result",
          "data": {
            "text/html": [
              "<div>\n",
              "<style scoped>\n",
              "    .dataframe tbody tr th:only-of-type {\n",
              "        vertical-align: middle;\n",
              "    }\n",
              "\n",
              "    .dataframe tbody tr th {\n",
              "        vertical-align: top;\n",
              "    }\n",
              "\n",
              "    .dataframe thead th {\n",
              "        text-align: right;\n",
              "    }\n",
              "</style>\n",
              "<table border=\"1\" class=\"dataframe\">\n",
              "  <thead>\n",
              "    <tr style=\"text-align: right;\">\n",
              "      <th></th>\n",
              "      <th>text</th>\n",
              "      <th>class</th>\n",
              "    </tr>\n",
              "  </thead>\n",
              "  <tbody>\n",
              "    <tr>\n",
              "      <th>0</th>\n",
              "      <td>Sobre MBA ? Eu gostei muito do MBA da FIAP</td>\n",
              "      <td>positivo</td>\n",
              "    </tr>\n",
              "    <tr>\n",
              "      <th>1</th>\n",
              "      <td>O MBA da FIAP pode melhorar, não gostei muito</td>\n",
              "      <td>negativo</td>\n",
              "    </tr>\n",
              "  </tbody>\n",
              "</table>\n",
              "</div>"
            ],
            "text/plain": [
              "                                            text     class\n",
              "0     Sobre MBA ? Eu gostei muito do MBA da FIAP  positivo\n",
              "1  O MBA da FIAP pode melhorar, não gostei muito  negativo"
            ]
          },
          "metadata": {
            "tags": []
          },
          "execution_count": 24
        }
      ]
    },
    {
      "cell_type": "code",
      "metadata": {
        "id": "M4lp9qev2BwO",
        "colab": {
          "base_uri": "https://localhost:8080/"
        },
        "outputId": "c800a141-192b-405c-f7f6-46a1fd33e389"
      },
      "source": [
        "df['class']"
      ],
      "execution_count": 25,
      "outputs": [
        {
          "output_type": "execute_result",
          "data": {
            "text/plain": [
              "0    positivo\n",
              "1    negativo\n",
              "Name: class, dtype: object"
            ]
          },
          "metadata": {
            "tags": []
          },
          "execution_count": 25
        }
      ]
    },
    {
      "cell_type": "markdown",
      "metadata": {
        "id": "L9OOZ2uwFO9O"
      },
      "source": [
        "###Transformando os textos/dados em uma \"linguagem\" para o modelo"
      ]
    },
    {
      "cell_type": "code",
      "metadata": {
        "colab": {
          "base_uri": "https://localhost:8080/"
        },
        "id": "scb7PSMRFZoi",
        "outputId": "fd629ecb-3ab7-4702-a9b9-5e58a571c1d4"
      },
      "source": [
        "from sklearn.feature_extraction.text import TfidfVectorizer\n",
        "\n",
        "# ao usar o TfidfVectorizer() o default ngram_range=unigrama, use_idf=True, norm='l2', lowercase=True, max_df e min_df=1, smooth_idf=True, sublinear_tf=False\n",
        "vect = TfidfVectorizer()\n",
        "vect.fit(df.text)\n",
        "tfidf_vect = vect.transform(df.text)\n",
        "\n",
        "print(pd.DataFrame(tfidf_vect.A, columns=vect.get_feature_names()).to_string())"
      ],
      "execution_count": 26,
      "outputs": [
        {
          "output_type": "stream",
          "text": [
            "         da        do        eu      fiap    gostei       mba  melhorar     muito       não      pode     sobre\n",
            "0  0.267970  0.376623  0.376623  0.267970  0.267970  0.535941  0.000000  0.267970  0.000000  0.000000  0.376623\n",
            "1  0.302531  0.000000  0.000000  0.302531  0.302531  0.302531  0.425196  0.302531  0.425196  0.425196  0.000000\n"
          ],
          "name": "stdout"
        }
      ]
    },
    {
      "cell_type": "markdown",
      "metadata": {
        "id": "tQW-5k0FFetx"
      },
      "source": [
        "###Treinando um modelo de Árvore de Decisão\n"
      ]
    },
    {
      "cell_type": "code",
      "metadata": {
        "id": "A3p0_VlNmzAY",
        "colab": {
          "base_uri": "https://localhost:8080/"
        },
        "outputId": "521151ed-7cce-40f2-97a3-834802d5e0c6"
      },
      "source": [
        "# treinando um modelo de árevore de decisão\n",
        "from sklearn.tree import DecisionTreeClassifier\n",
        "\n",
        "tree = DecisionTreeClassifier()\n",
        "tree.fit(tfidf_vect, df['class'])\n",
        "\n",
        "print('D Tree: ', tree.score(tfidf_vect, df['class'])) # retorna a acurracy - precisão do modelo"
      ],
      "execution_count": 27,
      "outputs": [
        {
          "output_type": "stream",
          "text": [
            "D Tree:  1.0\n"
          ],
          "name": "stdout"
        }
      ]
    },
    {
      "cell_type": "code",
      "metadata": {
        "id": "MD07UNay3hA5"
      },
      "source": [
        "#tree.score(tfidf_vect, df['class'])"
      ],
      "execution_count": null,
      "outputs": []
    },
    {
      "cell_type": "markdown",
      "metadata": {
        "id": "seivhEQFFpFp"
      },
      "source": [
        "###Aplicando o conhecimento do modelo em um novo documento"
      ]
    },
    {
      "cell_type": "code",
      "metadata": {
        "id": "OuGLwdhUpuIZ",
        "colab": {
          "base_uri": "https://localhost:8080/"
        },
        "outputId": "e9568c38-468f-4a2c-d2bb-f044fbc20db7"
      },
      "source": [
        "vetor = vect.transform(['o curso pode melhorar'])\n",
        "\n",
        "print(pd.DataFrame(vetor.A, columns=vect.get_feature_names()).to_string())\n",
        "\n",
        "print('D Tree: ', tree.predict(vetor))"
      ],
      "execution_count": 29,
      "outputs": [
        {
          "output_type": "stream",
          "text": [
            "    da   do   eu  fiap  gostei  mba  melhorar  muito  não      pode  sobre\n",
            "0  0.0  0.0  0.0   0.0     0.0  0.0  0.707107    0.0  0.0  0.707107    0.0\n",
            "D Tree:  ['positivo']\n"
          ],
          "name": "stdout"
        }
      ]
    },
    {
      "cell_type": "markdown",
      "metadata": {
        "id": "SwKKm5BdIDPi"
      },
      "source": [
        "# **Montando nossa amostra**\n",
        "\n",
        "---"
      ]
    },
    {
      "cell_type": "code",
      "metadata": {
        "colab": {
          "base_uri": "https://localhost:8080/"
        },
        "id": "DJiSowwqF-Mx",
        "outputId": "305772b3-8844-465d-fa12-c086be5a682e"
      },
      "source": [
        "from google.colab import drive\n",
        "drive.mount('/content/gdrive', force_remount=True)\n",
        "\n",
        "# mostrar a estrutura de pastas do google drive montado\n",
        "!ls -la\n",
        "!ls -la gdrive/MyDrive/FIAP/NLP/dados"
      ],
      "execution_count": 30,
      "outputs": [
        {
          "output_type": "stream",
          "text": [
            "Mounted at /content/gdrive\n",
            "total 20\n",
            "drwxr-xr-x 1 root root 4096 May  3 17:06 .\n",
            "drwxr-xr-x 1 root root 4096 May  3 16:49 ..\n",
            "drwxr-xr-x 4 root root 4096 Apr 21 13:38 .config\n",
            "drwx------ 5 root root 4096 May  3 17:06 gdrive\n",
            "drwxr-xr-x 1 root root 4096 Apr 21 13:39 sample_data\n",
            "total 1233808\n",
            "-rw------- 1 root root 929305948 Mar 11  2020 cbow_s300.zip\n",
            "-rw------- 1 root root 127066935 Mar 29  2020 imdb-reviews-pt-br.csv\n",
            "-rw------- 1 root root   3776170 Mar 29  2020 produtos.csv\n",
            "-rw------- 1 root root 203269084 Jun 11  2020 pt.zip\n"
          ],
          "name": "stdout"
        }
      ]
    },
    {
      "cell_type": "markdown",
      "metadata": {
        "id": "KKFntlmBJlP-"
      },
      "source": [
        "Selecioando dados aleatórios direto do arquivo"
      ]
    },
    {
      "cell_type": "code",
      "metadata": {
        "colab": {
          "base_uri": "https://localhost:8080/",
          "height": 168
        },
        "id": "604kMteIF-Kj",
        "outputId": "249d6252-cfd6-461f-9933-dcfebfe0b56f"
      },
      "source": [
        "df = pd.read_csv(\n",
        "    \"gdrive/MyDrive/FIAP/NLP/dados/produtos.csv\",\n",
        "    delimiter=\";\",\n",
        "    encoding='utf-8'\n",
        "  ).sample(frac=0.5, random_state=42)\n",
        "\n",
        "df.dropna(inplace=True)\n",
        "df[\"texto\"] = df['nome'] + \" \" + df['descricao']\n",
        "df.describe()\n",
        "\n",
        "#df.sample(frac=0.5, random_state=42)"
      ],
      "execution_count": 31,
      "outputs": [
        {
          "output_type": "execute_result",
          "data": {
            "text/html": [
              "<div>\n",
              "<style scoped>\n",
              "    .dataframe tbody tr th:only-of-type {\n",
              "        vertical-align: middle;\n",
              "    }\n",
              "\n",
              "    .dataframe tbody tr th {\n",
              "        vertical-align: top;\n",
              "    }\n",
              "\n",
              "    .dataframe thead th {\n",
              "        text-align: right;\n",
              "    }\n",
              "</style>\n",
              "<table border=\"1\" class=\"dataframe\">\n",
              "  <thead>\n",
              "    <tr style=\"text-align: right;\">\n",
              "      <th></th>\n",
              "      <th>nome</th>\n",
              "      <th>descricao</th>\n",
              "      <th>categoria</th>\n",
              "      <th>texto</th>\n",
              "    </tr>\n",
              "  </thead>\n",
              "  <tbody>\n",
              "    <tr>\n",
              "      <th>count</th>\n",
              "      <td>1424</td>\n",
              "      <td>1424</td>\n",
              "      <td>1424</td>\n",
              "      <td>1424</td>\n",
              "    </tr>\n",
              "    <tr>\n",
              "      <th>unique</th>\n",
              "      <td>1307</td>\n",
              "      <td>1257</td>\n",
              "      <td>4</td>\n",
              "      <td>1320</td>\n",
              "    </tr>\n",
              "    <tr>\n",
              "      <th>top</th>\n",
              "      <td>Box A Garota Do Calendário Novo No Plástico F...</td>\n",
              "      <td>JOGO ORIGINAL. NOVO. LACRADO. PRONTA ENTREGA. ...</td>\n",
              "      <td>livro</td>\n",
              "      <td>Box A Garota Do Calendário Novo No Plástico F...</td>\n",
              "    </tr>\n",
              "    <tr>\n",
              "      <th>freq</th>\n",
              "      <td>11</td>\n",
              "      <td>19</td>\n",
              "      <td>411</td>\n",
              "      <td>11</td>\n",
              "    </tr>\n",
              "  </tbody>\n",
              "</table>\n",
              "</div>"
            ],
            "text/plain": [
              "                                                     nome  ...                                              texto\n",
              "count                                                1424  ...                                               1424\n",
              "unique                                               1307  ...                                               1320\n",
              "top      Box A Garota Do Calendário Novo No Plástico F...  ...   Box A Garota Do Calendário Novo No Plástico F...\n",
              "freq                                                   11  ...                                                 11\n",
              "\n",
              "[4 rows x 4 columns]"
            ]
          },
          "metadata": {
            "tags": []
          },
          "execution_count": 31
        }
      ]
    },
    {
      "cell_type": "code",
      "metadata": {
        "id": "vtn8Zq0aF-IM"
      },
      "source": [
        "'''\n",
        "df = pd.read_csv(\n",
        "    \"https://dados-ml-pln.s3-sa-east-1.amazonaws.com/produtos.csv\", delimiter=\";\", encoding='utf-8'\n",
        "  ).sample(frac=0.5, random_state=42)\n",
        "'''"
      ],
      "execution_count": null,
      "outputs": []
    },
    {
      "cell_type": "code",
      "metadata": {
        "id": "-ttBs2VFF-Ft"
      },
      "source": [
        "'''\n",
        "df = pd.read_csv(\n",
        "    \"https://dados-ml-pln.s3-sa-east-1.amazonaws.com/produtos.csv\", delimiter=\";\", encoding='utf-8'\n",
        "  ).sample(1000)\n",
        "'''"
      ],
      "execution_count": null,
      "outputs": []
    },
    {
      "cell_type": "markdown",
      "metadata": {
        "id": "OZWAbXji7NJB"
      },
      "source": [
        "## Divisão do dataframe em amostras treino e teste"
      ]
    },
    {
      "cell_type": "code",
      "metadata": {
        "colab": {
          "base_uri": "https://localhost:8080/",
          "height": 168
        },
        "id": "cIdfftBkF-AV",
        "outputId": "1249e17a-bcc8-4482-a768-15f8aad7053b"
      },
      "source": [
        "import pandas as pd\n",
        "\n",
        "df = pd.read_csv(\"gdrive/MyDrive/FIAP/NLP/dados/produtos.csv\", delimiter=\";\", encoding='utf-8')\n",
        "\n",
        "df.dropna(inplace=True)\n",
        "\n",
        "df[\"texto\"] = df['nome'] + \" \" + df['descricao']\n",
        "\n",
        "df.describe()"
      ],
      "execution_count": 33,
      "outputs": [
        {
          "output_type": "execute_result",
          "data": {
            "text/html": [
              "<div>\n",
              "<style scoped>\n",
              "    .dataframe tbody tr th:only-of-type {\n",
              "        vertical-align: middle;\n",
              "    }\n",
              "\n",
              "    .dataframe tbody tr th {\n",
              "        vertical-align: top;\n",
              "    }\n",
              "\n",
              "    .dataframe thead th {\n",
              "        text-align: right;\n",
              "    }\n",
              "</style>\n",
              "<table border=\"1\" class=\"dataframe\">\n",
              "  <thead>\n",
              "    <tr style=\"text-align: right;\">\n",
              "      <th></th>\n",
              "      <th>nome</th>\n",
              "      <th>descricao</th>\n",
              "      <th>categoria</th>\n",
              "      <th>texto</th>\n",
              "    </tr>\n",
              "  </thead>\n",
              "  <tbody>\n",
              "    <tr>\n",
              "      <th>count</th>\n",
              "      <td>2916</td>\n",
              "      <td>2916</td>\n",
              "      <td>2916</td>\n",
              "      <td>2916</td>\n",
              "    </tr>\n",
              "    <tr>\n",
              "      <th>unique</th>\n",
              "      <td>2584</td>\n",
              "      <td>2460</td>\n",
              "      <td>4</td>\n",
              "      <td>2646</td>\n",
              "    </tr>\n",
              "    <tr>\n",
              "      <th>top</th>\n",
              "      <td>Boneco Dragon Ball Z Son Gokou</td>\n",
              "      <td>JOGO ORIGINAL. NOVO. LACRADO. PRONTA ENTREGA. ...</td>\n",
              "      <td>livro</td>\n",
              "      <td>Boneco Dragon Ball Z Son Gokou   Produto novo</td>\n",
              "    </tr>\n",
              "    <tr>\n",
              "      <th>freq</th>\n",
              "      <td>20</td>\n",
              "      <td>39</td>\n",
              "      <td>838</td>\n",
              "      <td>20</td>\n",
              "    </tr>\n",
              "  </tbody>\n",
              "</table>\n",
              "</div>"
            ],
            "text/plain": [
              "                                     nome  ...                                           texto\n",
              "count                                2916  ...                                            2916\n",
              "unique                               2584  ...                                            2646\n",
              "top      Boneco Dragon Ball Z Son Gokou    ...   Boneco Dragon Ball Z Son Gokou   Produto novo\n",
              "freq                                   20  ...                                              20\n",
              "\n",
              "[4 rows x 4 columns]"
            ]
          },
          "metadata": {
            "tags": []
          },
          "execution_count": 33
        }
      ]
    },
    {
      "cell_type": "code",
      "metadata": {
        "id": "M6ZAv9oSF99k"
      },
      "source": [
        "from sklearn.model_selection import train_test_split\n",
        "\n",
        "# divisão da amostra entre treino e teste\n",
        "df_train, df_test = train_test_split(\n",
        "      df, \n",
        "      test_size = 0.3, \n",
        "      random_state = 42\n",
        "  )"
      ],
      "execution_count": 34,
      "outputs": []
    },
    {
      "cell_type": "markdown",
      "metadata": {
        "id": "jMJYGtkfJ_GT"
      },
      "source": [
        "Analisando a distribuição das amostras em relação ao total"
      ]
    },
    {
      "cell_type": "code",
      "metadata": {
        "colab": {
          "base_uri": "https://localhost:8080/"
        },
        "id": "zeMEAc-wJvkk",
        "outputId": "6e2d75e7-fb3f-416e-d132-61a597d0e5a6"
      },
      "source": [
        "print(\"Original\")\n",
        "print(df.categoria.value_counts())\n",
        "print(\"\\nTreino\")\n",
        "print(df_train.categoria.value_counts())\n",
        "print(\"\\nTeste\")\n",
        "print(df_test.categoria.value_counts())"
      ],
      "execution_count": 35,
      "outputs": [
        {
          "output_type": "stream",
          "text": [
            "Original\n",
            "livro        838\n",
            "maquiagem    788\n",
            "brinquedo    668\n",
            "game         622\n",
            "Name: categoria, dtype: int64\n",
            "\n",
            "Treino\n",
            "livro        577\n",
            "maquiagem    558\n",
            "brinquedo    478\n",
            "game         428\n",
            "Name: categoria, dtype: int64\n",
            "\n",
            "Teste\n",
            "livro        261\n",
            "maquiagem    230\n",
            "game         194\n",
            "brinquedo    190\n",
            "Name: categoria, dtype: int64\n"
          ],
          "name": "stdout"
        }
      ]
    },
    {
      "cell_type": "code",
      "metadata": {
        "colab": {
          "base_uri": "https://localhost:8080/"
        },
        "id": "aE5jXycNJvhr",
        "outputId": "fe41a195-7ead-43cc-cafd-874559a5232b"
      },
      "source": [
        "print(\"Original\")\n",
        "print(df.categoria.value_counts()/df.shape[0])\n",
        "print(\"\\nTreino\")\n",
        "print(df_train.categoria.value_counts()/df_train.shape[0])\n",
        "print(\"\\nTeste\")\n",
        "print(df_test.categoria.value_counts()/df_test.shape[0])"
      ],
      "execution_count": 36,
      "outputs": [
        {
          "output_type": "stream",
          "text": [
            "Original\n",
            "livro        0.287380\n",
            "maquiagem    0.270233\n",
            "brinquedo    0.229081\n",
            "game         0.213306\n",
            "Name: categoria, dtype: float64\n",
            "\n",
            "Treino\n",
            "livro        0.282705\n",
            "maquiagem    0.273395\n",
            "brinquedo    0.234199\n",
            "game         0.209701\n",
            "Name: categoria, dtype: float64\n",
            "\n",
            "Teste\n",
            "livro        0.298286\n",
            "maquiagem    0.262857\n",
            "game         0.221714\n",
            "brinquedo    0.217143\n",
            "Name: categoria, dtype: float64\n"
          ],
          "name": "stdout"
        }
      ]
    },
    {
      "cell_type": "code",
      "metadata": {
        "colab": {
          "base_uri": "https://localhost:8080/",
          "height": 282
        },
        "id": "j54cIH5rJvfT",
        "outputId": "9ed6af85-1e13-46ff-c4e0-ae90f9223d9c"
      },
      "source": [
        "(df.categoria.value_counts()/df.shape[0]).plot(kind='bar', figsize=(3,3))"
      ],
      "execution_count": 37,
      "outputs": [
        {
          "output_type": "execute_result",
          "data": {
            "text/plain": [
              "<matplotlib.axes._subplots.AxesSubplot at 0x7f5c04704cd0>"
            ]
          },
          "metadata": {
            "tags": []
          },
          "execution_count": 37
        },
        {
          "output_type": "display_data",
          "data": {
            "image/png": "[encoded data removed]",
            "text/plain": [
              "<Figure size 216x216 with 1 Axes>"
            ]
          },
          "metadata": {
            "tags": [],
            "needs_background": "light"
          }
        }
      ]
    },
    {
      "cell_type": "code",
      "metadata": {
        "colab": {
          "base_uri": "https://localhost:8080/",
          "height": 279
        },
        "id": "uQPZ0eEaJvdn",
        "outputId": "08a98ef8-8e11-49bd-bc72-a26d15b28c46"
      },
      "source": [
        "(df_test.categoria.value_counts()/df_test.shape[0]).plot(kind='bar', figsize=(3,3))"
      ],
      "execution_count": 38,
      "outputs": [
        {
          "output_type": "execute_result",
          "data": {
            "text/plain": [
              "<matplotlib.axes._subplots.AxesSubplot at 0x7f5c047e2610>"
            ]
          },
          "metadata": {
            "tags": []
          },
          "execution_count": 38
        },
        {
          "output_type": "display_data",
          "data": {
            "image/png": "[encoded data removed]",
            "text/plain": [
              "<Figure size 216x216 with 1 Axes>"
            ]
          },
          "metadata": {
            "tags": [],
            "needs_background": "light"
          }
        }
      ]
    },
    {
      "cell_type": "markdown",
      "metadata": {
        "id": "wQ_SiN6tKZjt"
      },
      "source": [
        "## Outra forma: seria separando cada objeto já tratado"
      ]
    },
    {
      "cell_type": "code",
      "metadata": {
        "id": "gJ6G_vwQKZPP"
      },
      "source": [
        "from sklearn.model_selection import train_test_split\n",
        "from sklearn.feature_extraction.text import CountVectorizer\n",
        "\n",
        "vect = CountVectorizer()\n",
        "vect.fit(df.texto)\n",
        "text_vect = vect.transform(df.texto)\n",
        "\n",
        "# divisão da amostra entre treino e teste\n",
        "X_train, X_test, y_train, y_test = train_test_split(\n",
        "      text_vect, \n",
        "      df[\"categoria\"], \n",
        "      test_size = 0.3, \n",
        "      random_state = 42\n",
        "  )"
      ],
      "execution_count": 39,
      "outputs": []
    },
    {
      "cell_type": "markdown",
      "metadata": {
        "id": "CMbo8s0yKdoL"
      },
      "source": [
        "Analisando a distribuição das amostras em relação ao total"
      ]
    },
    {
      "cell_type": "code",
      "metadata": {
        "colab": {
          "base_uri": "https://localhost:8080/"
        },
        "id": "3qMpjitjJvaN",
        "outputId": "42e6263d-9a9d-4cbf-e9cc-816cd1b7a3c5"
      },
      "source": [
        "print(\"Original\")\n",
        "print(df.categoria.value_counts()/df.shape[0])\n",
        "print(\"\\nTreino\")\n",
        "print(y_train.value_counts()/y_train.shape[0])\n",
        "print(\"\\nTeste\")\n",
        "print(y_test.value_counts()/y_test.shape[0])"
      ],
      "execution_count": 40,
      "outputs": [
        {
          "output_type": "stream",
          "text": [
            "Original\n",
            "livro        0.287380\n",
            "maquiagem    0.270233\n",
            "brinquedo    0.229081\n",
            "game         0.213306\n",
            "Name: categoria, dtype: float64\n",
            "\n",
            "Treino\n",
            "livro        0.282705\n",
            "maquiagem    0.273395\n",
            "brinquedo    0.234199\n",
            "game         0.209701\n",
            "Name: categoria, dtype: float64\n",
            "\n",
            "Teste\n",
            "livro        0.298286\n",
            "maquiagem    0.262857\n",
            "game         0.221714\n",
            "brinquedo    0.217143\n",
            "Name: categoria, dtype: float64\n"
          ],
          "name": "stdout"
        }
      ]
    },
    {
      "cell_type": "markdown",
      "metadata": {
        "id": "f4CCjQ2G7tXK"
      },
      "source": [
        "Trestando o modelo de uma forma simplificada"
      ]
    },
    {
      "cell_type": "code",
      "metadata": {
        "colab": {
          "base_uri": "https://localhost:8080/"
        },
        "id": "HVsy9RxXKXqe",
        "outputId": "cc473189-b47d-471c-cf27-1982b9ede4ac"
      },
      "source": [
        "from sklearn.model_selection import train_test_split\n",
        "from sklearn.feature_extraction.text import CountVectorizer\n",
        "from sklearn.tree import DecisionTreeClassifier\n",
        "from sklearn.metrics import accuracy_score\n",
        "\n",
        "# treinamento do modelo ávore de decisão\n",
        "tree = DecisionTreeClassifier(random_state=42)\n",
        "tree.fit(X_train, y_train)\n",
        "\n",
        "# escoragem da classificação na amostra de teste\n",
        "y_prediction = tree.predict(X_test)\n",
        "\n",
        "# mensuração do resultado pela acurácia\n",
        "accuracy = accuracy_score(y_prediction, y_test)\n",
        "print(accuracy)\n",
        "\n",
        "print(\" \")\n",
        "print(text_vect.shape)"
      ],
      "execution_count": 41,
      "outputs": [
        {
          "output_type": "stream",
          "text": [
            "0.9588571428571429\n",
            " \n",
            "(2916, 35466)\n"
          ],
          "name": "stdout"
        }
      ]
    },
    {
      "cell_type": "markdown",
      "metadata": {
        "id": "qoB8rvpm7wqR"
      },
      "source": [
        "Testando o modelo da forma mais acertiva"
      ]
    },
    {
      "cell_type": "code",
      "metadata": {
        "colab": {
          "base_uri": "https://localhost:8080/"
        },
        "id": "LuL7BaYXKXoS",
        "outputId": "caa288f6-2dcf-4713-d2d0-871afcca16e0"
      },
      "source": [
        "print(df_train.head(5))\n",
        "print(df_test.head(5))"
      ],
      "execution_count": 42,
      "outputs": [
        {
          "output_type": "stream",
          "text": [
            "                                                   nome  ...                                              texto\n",
            "1799   Refil De Dardos  Nerf Zombie Strike 1 Pacote ...  ...   Refil De Dardos  Nerf Zombie Strike 1 Pacote ...\n",
            "1339   Bandana Naruto Shippuden Konoha Cosplay Ninja...  ...   Bandana Naruto Shippuden Konoha Cosplay Ninja...\n",
            "92                  O Diário De Anne Frank - Capa Dura   ...   O Diário De Anne Frank - Capa Dura  Produto N...\n",
            "3228    Jogos Steam Aleatório - Pc Game - Key Original   ...   Jogos Steam Aleatório - Pc Game - Key Origina...\n",
            "940    Livro Trilogia O Senhor Dos Anéis - 3 Livros ...  ...   Livro Trilogia O Senhor Dos Anéis - 3 Livros ...\n",
            "\n",
            "[5 rows x 4 columns]\n",
            "                                                   nome  ...                                              texto\n",
            "2700   Estojo Duo Iluminador E Bronzer Belle Angel M...  ...   Estojo Duo Iluminador E Bronzer Belle Angel M...\n",
            "1297   Patrulha Canina Carrinhos De Fricção 6 Person...  ...   Patrulha Canina Carrinhos De Fricção 6 Person...\n",
            "3162   Pokemon Ultra Moon Nintendo 3ds Midia Fisica ...  ...   Pokemon Ultra Moon Nintendo 3ds Midia Fisica ...\n",
            "2895                           Kite Pincel  12 Unidade   ...   Kite Pincel  12 Unidade  esta alta qualidade ...\n",
            "2226   Maleta Grande P/ Maquiagem Profissional Rodin...  ...   Maleta Grande P/ Maquiagem Profissional Rodin...\n",
            "\n",
            "[5 rows x 4 columns]\n"
          ],
          "name": "stdout"
        }
      ]
    },
    {
      "cell_type": "code",
      "metadata": {
        "colab": {
          "base_uri": "https://localhost:8080/"
        },
        "id": "41YyELzW7yb5",
        "outputId": "57374efe-f02a-482e-8f23-34c5a155539d"
      },
      "source": [
        "from sklearn.model_selection import train_test_split\n",
        "from sklearn.feature_extraction.text import CountVectorizer\n",
        "from sklearn.tree import DecisionTreeClassifier\n",
        "from sklearn.metrics import accuracy_score\n",
        "\n",
        "# divisão da amostra entre treino e teste\n",
        "df_train, df_test = train_test_split(\n",
        "      df, \n",
        "      test_size = 0.3, \n",
        "      random_state = 42\n",
        "  )\n",
        "\n",
        "# vetorização da base de treino\n",
        "vect = CountVectorizer()\n",
        "vect.fit(df_train.texto)\n",
        "text_vect_train = vect.transform(df_train.texto)\n",
        "\n",
        "# treinamento do modelo ávore de decisão\n",
        "tree = DecisionTreeClassifier(random_state=42)\n",
        "tree.fit(text_vect_train, df_train.categoria)\n",
        "\n",
        "# escoragem da classificação na amostra de teste\n",
        "text_vect_test = vect.transform(df_test.texto)\n",
        "y_prediction = tree.predict(text_vect_test)\n",
        "\n",
        "# mensuração do resultado pela acurácia\n",
        "accuracy = accuracy_score(y_prediction, df_test.categoria)\n",
        "print(accuracy)\n",
        "\n",
        "print(\" \")\n",
        "print(text_vect.shape)\n",
        "print(text_vect_train.shape)\n",
        "print(text_vect_test.shape)"
      ],
      "execution_count": 43,
      "outputs": [
        {
          "output_type": "stream",
          "text": [
            "0.9565714285714285\n",
            " \n",
            "(2916, 35466)\n",
            "(2041, 29957)\n",
            "(875, 29957)\n"
          ],
          "name": "stdout"
        }
      ]
    },
    {
      "cell_type": "code",
      "metadata": {
        "id": "vHZUAsT6KXlz"
      },
      "source": [
        ""
      ],
      "execution_count": null,
      "outputs": []
    },
    {
      "cell_type": "code",
      "metadata": {
        "id": "kREUHnDR_aGQ"
      },
      "source": [
        ""
      ],
      "execution_count": null,
      "outputs": []
    },
    {
      "cell_type": "code",
      "metadata": {
        "id": "a8eK3HihJvXu"
      },
      "source": [
        ""
      ],
      "execution_count": null,
      "outputs": []
    },
    {
      "cell_type": "markdown",
      "metadata": {
        "id": "R2-ZCeUkYiJ1"
      },
      "source": [
        "Salvando o modelo treinado e o vetor de tranformação."
      ]
    },
    {
      "cell_type": "code",
      "metadata": {
        "id": "2R6-1s4wqEiq"
      },
      "source": [
        "import pickle\n",
        "\n",
        "pickle.dump(tree, open('minhaarvore.pkl', 'wb'))"
      ],
      "execution_count": null,
      "outputs": []
    },
    {
      "cell_type": "code",
      "metadata": {
        "id": "_DE_UGqF1tI8",
        "colab": {
          "base_uri": "https://localhost:8080/",
          "height": 119
        },
        "outputId": "cd3a6a21-6217-469c-c003-57b7466aca20"
      },
      "source": [
        "!ls -la"
      ],
      "execution_count": null,
      "outputs": [
        {
          "output_type": "stream",
          "text": [
            "total 20\n",
            "drwxr-xr-x 1 root root 4096 May 27 00:06 .\n",
            "drwxr-xr-x 1 root root 4096 May 26 23:13 ..\n",
            "drwxr-xr-x 1 root root 4096 May 20 16:14 .config\n",
            "-rw-r--r-- 1 root root 1563 May 27 00:06 minhaarvore.pkl\n",
            "drwxr-xr-x 1 root root 4096 May 13 16:29 sample_data\n"
          ],
          "name": "stdout"
        }
      ]
    },
    {
      "cell_type": "code",
      "metadata": {
        "id": "4CsH-JyC3rGI"
      },
      "source": [
        "blaaaaa = pickle.load(open('minhaarvore.pkl', 'rb'))"
      ],
      "execution_count": null,
      "outputs": []
    },
    {
      "cell_type": "code",
      "metadata": {
        "id": "DLsZNb1R4EIk",
        "colab": {
          "base_uri": "https://localhost:8080/",
          "height": 34
        },
        "outputId": "b885bdc6-468d-4f79-e662-30f88d9f28ee"
      },
      "source": [
        "print('D Tree: ', blaaaaa.predict(vetor)) # texto = vetor"
      ],
      "execution_count": null,
      "outputs": [
        {
          "output_type": "stream",
          "text": [
            "D Tree:  ['positivo']\n"
          ],
          "name": "stdout"
        }
      ]
    },
    {
      "cell_type": "code",
      "metadata": {
        "id": "_vdnmYmE4PYL",
        "colab": {
          "base_uri": "https://localhost:8080/",
          "height": 122
        },
        "outputId": "72c29aa0-4a27-4ccd-f24d-ee0942b4a163"
      },
      "source": [
        "from google.colab import drive\n",
        "drive.mount('/content/gdrive', force_remount=True)\n",
        "\n",
        "# mostrar a estrutura de pastas do google drive montado"
      ],
      "execution_count": null,
      "outputs": [
        {
          "output_type": "stream",
          "text": [
            "Go to this URL in a browser: https://accounts.google.com/o/oauth2/auth?client_id=947318989803-6bn6qk8qdgf4n4g3pfee6491hc0brc4i.apps.googleusercontent.com&redirect_uri=urn%3aietf%3awg%3aoauth%3a2.0%3aoob&response_type=code&scope=email%20https%3a%2f%2fwww.googleapis.com%2fauth%2fdocs.test%20https%3a%2f%2fwww.googleapis.com%2fauth%2fdrive%20https%3a%2f%2fwww.googleapis.com%2fauth%2fdrive.photos.readonly%20https%3a%2f%2fwww.googleapis.com%2fauth%2fpeopleapi.readonly\n",
            "\n",
            "Enter your authorization code:\n",
            "··········\n",
            "Mounted at /content/gdrive\n"
          ],
          "name": "stdout"
        }
      ]
    },
    {
      "cell_type": "code",
      "metadata": {
        "id": "hKUrqfZ_ABaC"
      },
      "source": [
        "import pickle\n",
        "\n",
        "pickle.dump(tree, open('/content/gdrive/My Drive/FIAP/NLP/minhaarvore.pkl', 'wb'))\n",
        "\n",
        "pickle.dump(vect, open('/content/gdrive/My Drive/FIAP/NLP/vetorizador.pkl', 'wb'))"
      ],
      "execution_count": null,
      "outputs": []
    }
  ]
}