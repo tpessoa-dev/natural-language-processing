{
  "nbformat": 4,
  "nbformat_minor": 0,
  "metadata": {
    "colab": {
      "name": "Aula 1-6 IA PLN - Exercício.ipynb",
      "provenance": [],
      "collapsed_sections": []
    },
    "kernelspec": {
      "name": "python3",
      "display_name": "Python 3"
    }
  },
  "cells": [
    {
      "cell_type": "markdown",
      "metadata": {
        "id": "a2BT_ZwvhEKF"
      },
      "source": [
        "## Carregando o dataset"
      ]
    },
    {
      "cell_type": "code",
      "metadata": {
        "id": "MbxTY0CHaaDl",
        "colab": {
          "base_uri": "https://localhost:8080/",
          "height": 166
        },
        "outputId": "b996d649-630c-4eb4-f360-28b746727a89"
      },
      "source": [
        "import pandas as pd\n",
        "\n",
        "df = pd.read_csv(\n",
        "    \"https://dados-ml-pln.s3-sa-east-1.amazonaws.com/produtos.csv\",\n",
        "    delimiter=\";\",\n",
        "    encoding='utf-8'\n",
        ")\n",
        "\n",
        "df.describe()"
      ],
      "execution_count": null,
      "outputs": [
        {
          "output_type": "execute_result",
          "data": {
            "text/html": [
              "<div>\n",
              "<style scoped>\n",
              "    .dataframe tbody tr th:only-of-type {\n",
              "        vertical-align: middle;\n",
              "    }\n",
              "\n",
              "    .dataframe tbody tr th {\n",
              "        vertical-align: top;\n",
              "    }\n",
              "\n",
              "    .dataframe thead th {\n",
              "        text-align: right;\n",
              "    }\n",
              "</style>\n",
              "<table border=\"1\" class=\"dataframe\">\n",
              "  <thead>\n",
              "    <tr style=\"text-align: right;\">\n",
              "      <th></th>\n",
              "      <th>nome</th>\n",
              "      <th>descricao</th>\n",
              "      <th>categoria</th>\n",
              "    </tr>\n",
              "  </thead>\n",
              "  <tbody>\n",
              "    <tr>\n",
              "      <th>count</th>\n",
              "      <td>4080</td>\n",
              "      <td>2916</td>\n",
              "      <td>4080</td>\n",
              "    </tr>\n",
              "    <tr>\n",
              "      <th>unique</th>\n",
              "      <td>3696</td>\n",
              "      <td>2460</td>\n",
              "      <td>4</td>\n",
              "    </tr>\n",
              "    <tr>\n",
              "      <th>top</th>\n",
              "      <td>Bonecos Brinquedo Vingadores 30 Cm Com Luz E...</td>\n",
              "      <td>JOGO ORIGINAL. NOVO. LACRADO. PRONTA ENTREGA. ...</td>\n",
              "      <td>livro</td>\n",
              "    </tr>\n",
              "    <tr>\n",
              "      <th>freq</th>\n",
              "      <td>20</td>\n",
              "      <td>39</td>\n",
              "      <td>1020</td>\n",
              "    </tr>\n",
              "  </tbody>\n",
              "</table>\n",
              "</div>"
            ],
            "text/plain": [
              "                                                     nome  ... categoria\n",
              "count                                                4080  ...      4080\n",
              "unique                                               3696  ...         4\n",
              "top       Bonecos Brinquedo Vingadores 30 Cm Com Luz E...  ...     livro\n",
              "freq                                                   20  ...      1020\n",
              "\n",
              "[4 rows x 3 columns]"
            ]
          },
          "metadata": {
            "tags": []
          },
          "execution_count": 1
        }
      ]
    },
    {
      "cell_type": "code",
      "metadata": {
        "id": "TQwrws_rmaau",
        "colab": {
          "base_uri": "https://localhost:8080/",
          "height": 204
        },
        "outputId": "995fbac3-a69f-436d-826d-eb0a1c9abad6"
      },
      "source": [
        "df.head()"
      ],
      "execution_count": null,
      "outputs": [
        {
          "output_type": "execute_result",
          "data": {
            "text/html": [
              "<div>\n",
              "<style scoped>\n",
              "    .dataframe tbody tr th:only-of-type {\n",
              "        vertical-align: middle;\n",
              "    }\n",
              "\n",
              "    .dataframe tbody tr th {\n",
              "        vertical-align: top;\n",
              "    }\n",
              "\n",
              "    .dataframe thead th {\n",
              "        text-align: right;\n",
              "    }\n",
              "</style>\n",
              "<table border=\"1\" class=\"dataframe\">\n",
              "  <thead>\n",
              "    <tr style=\"text-align: right;\">\n",
              "      <th></th>\n",
              "      <th>nome</th>\n",
              "      <th>descricao</th>\n",
              "      <th>categoria</th>\n",
              "    </tr>\n",
              "  </thead>\n",
              "  <tbody>\n",
              "    <tr>\n",
              "      <th>0</th>\n",
              "      <td>O Hobbit - 7ª Ed. 2013</td>\n",
              "      <td>Produto NovoBilbo Bolseiro é um hobbit que lev...</td>\n",
              "      <td>livro</td>\n",
              "    </tr>\n",
              "    <tr>\n",
              "      <th>1</th>\n",
              "      <td>Livro - It A Coisa - Stephen King</td>\n",
              "      <td>Produto NovoDurante as férias escolares de 195...</td>\n",
              "      <td>livro</td>\n",
              "    </tr>\n",
              "    <tr>\n",
              "      <th>2</th>\n",
              "      <td>Box  As Crônicas De Gelo E Fogo  Pocket  5 Li...</td>\n",
              "      <td>Produto NovoTodo o reino de Westeros ao alcanc...</td>\n",
              "      <td>livro</td>\n",
              "    </tr>\n",
              "    <tr>\n",
              "      <th>3</th>\n",
              "      <td>Box Harry Potter</td>\n",
              "      <td>Produto Novo e Físico  A série Harry Potter ch...</td>\n",
              "      <td>livro</td>\n",
              "    </tr>\n",
              "    <tr>\n",
              "      <th>4</th>\n",
              "      <td>Livro Origem - Dan Brown</td>\n",
              "      <td>Produto NovoDe Onde Viemos? Para Onde Vamos? R...</td>\n",
              "      <td>livro</td>\n",
              "    </tr>\n",
              "  </tbody>\n",
              "</table>\n",
              "</div>"
            ],
            "text/plain": [
              "                                                nome  ... categoria\n",
              "0                            O Hobbit - 7ª Ed. 2013   ...     livro\n",
              "1                 Livro - It A Coisa - Stephen King   ...     livro\n",
              "2   Box  As Crônicas De Gelo E Fogo  Pocket  5 Li...  ...     livro\n",
              "3                                  Box Harry Potter   ...     livro\n",
              "4                          Livro Origem - Dan Brown   ...     livro\n",
              "\n",
              "[5 rows x 3 columns]"
            ]
          },
          "metadata": {
            "tags": []
          },
          "execution_count": 4
        }
      ]
    },
    {
      "cell_type": "code",
      "metadata": {
        "id": "UqLEm4Mdxllb",
        "colab": {
          "base_uri": "https://localhost:8080/",
          "height": 85
        },
        "outputId": "b8ca2eb4-fb90-49d6-8189-b602dd1ea060"
      },
      "source": [
        "df.count()"
      ],
      "execution_count": null,
      "outputs": [
        {
          "output_type": "execute_result",
          "data": {
            "text/plain": [
              "nome         4080\n",
              "descricao    2916\n",
              "categoria    4080\n",
              "dtype: int64"
            ]
          },
          "metadata": {
            "tags": []
          },
          "execution_count": 5
        }
      ]
    },
    {
      "cell_type": "markdown",
      "metadata": {
        "id": "3b1AsI8DhJN3"
      },
      "source": [
        "## Quais valores são nulos e qual a porcentagem?"
      ]
    },
    {
      "cell_type": "code",
      "metadata": {
        "id": "5naO2LQHb8c-",
        "colab": {
          "base_uri": "https://localhost:8080/",
          "height": 187
        },
        "outputId": "fad67e1c-dab3-4248-ed21-5f0f5cce2271"
      },
      "source": [
        "df.info()"
      ],
      "execution_count": null,
      "outputs": [
        {
          "output_type": "stream",
          "text": [
            "<class 'pandas.core.frame.DataFrame'>\n",
            "RangeIndex: 4080 entries, 0 to 4079\n",
            "Data columns (total 3 columns):\n",
            " #   Column     Non-Null Count  Dtype \n",
            "---  ------     --------------  ----- \n",
            " 0   nome       4080 non-null   object\n",
            " 1   descricao  2916 non-null   object\n",
            " 2   categoria  4080 non-null   object\n",
            "dtypes: object(3)\n",
            "memory usage: 95.8+ KB\n"
          ],
          "name": "stdout"
        }
      ]
    },
    {
      "cell_type": "code",
      "metadata": {
        "id": "clrV3b7g144v",
        "colab": {
          "base_uri": "https://localhost:8080/",
          "height": 34
        },
        "outputId": "575edb9d-8af6-4021-8496-8438cc08b1bd"
      },
      "source": [
        "# dimensão do dataframe\n",
        "df.shape"
      ],
      "execution_count": null,
      "outputs": [
        {
          "output_type": "execute_result",
          "data": {
            "text/plain": [
              "(4080, 3)"
            ]
          },
          "metadata": {
            "tags": []
          },
          "execution_count": 8
        }
      ]
    },
    {
      "cell_type": "code",
      "metadata": {
        "id": "jcL-fY__LlZz",
        "colab": {
          "base_uri": "https://localhost:8080/",
          "height": 34
        },
        "outputId": "cd6ef1d5-4daa-43cf-db05-a0e9d970164d"
      },
      "source": [
        "print(df.shape[0], df.shape[1])"
      ],
      "execution_count": null,
      "outputs": [
        {
          "output_type": "stream",
          "text": [
            "4080 3\n"
          ],
          "name": "stdout"
        }
      ]
    },
    {
      "cell_type": "code",
      "metadata": {
        "id": "eApVJ845oDdy",
        "colab": {
          "base_uri": "https://localhost:8080/",
          "height": 85
        },
        "outputId": "f521251f-9e02-4eca-8fef-476aef0e44b6"
      },
      "source": [
        "# conta valores faltantes/nulos/missing\n",
        "df.isnull().sum()"
      ],
      "execution_count": null,
      "outputs": [
        {
          "output_type": "execute_result",
          "data": {
            "text/plain": [
              "nome            0\n",
              "descricao    1164\n",
              "categoria       0\n",
              "dtype: int64"
            ]
          },
          "metadata": {
            "tags": []
          },
          "execution_count": 10
        }
      ]
    },
    {
      "cell_type": "code",
      "metadata": {
        "id": "YUWD23RhbsvS",
        "colab": {
          "base_uri": "https://localhost:8080/",
          "height": 85
        },
        "outputId": "e2543aef-dc46-48f2-d505-da6df49f927e"
      },
      "source": [
        "# calcula o % de nulos no dataset\n",
        "df.isnull().sum()/df.shape[0]"
      ],
      "execution_count": null,
      "outputs": [
        {
          "output_type": "execute_result",
          "data": {
            "text/plain": [
              "nome         0.000000\n",
              "descricao    0.285294\n",
              "categoria    0.000000\n",
              "dtype: float64"
            ]
          },
          "metadata": {
            "tags": []
          },
          "execution_count": 12
        }
      ]
    },
    {
      "cell_type": "markdown",
      "metadata": {
        "id": "eok0vq2diIFa"
      },
      "source": [
        "## Remover as linhas com valores nulos"
      ]
    },
    {
      "cell_type": "code",
      "metadata": {
        "id": "d7EsxlE8gzY0",
        "colab": {
          "base_uri": "https://localhost:8080/",
          "height": 187
        },
        "outputId": "366618e9-73a3-46d1-a6ac-43760945b2ea"
      },
      "source": [
        "df.dropna(inplace=True) # dropna(inplace=True), inplace=True => modifica o próprio objeto. dropna(inplace=False), inplace=False => retorma uma cópia do objeto\n",
        "df.info()"
      ],
      "execution_count": null,
      "outputs": [
        {
          "output_type": "stream",
          "text": [
            "<class 'pandas.core.frame.DataFrame'>\n",
            "Int64Index: 2916 entries, 0 to 4079\n",
            "Data columns (total 3 columns):\n",
            " #   Column     Non-Null Count  Dtype \n",
            "---  ------     --------------  ----- \n",
            " 0   nome       2916 non-null   object\n",
            " 1   descricao  2916 non-null   object\n",
            " 2   categoria  2916 non-null   object\n",
            "dtypes: object(3)\n",
            "memory usage: 91.1+ KB\n"
          ],
          "name": "stdout"
        }
      ]
    },
    {
      "cell_type": "markdown",
      "metadata": {
        "id": "7hUJ2U3nj1xt"
      },
      "source": [
        "## Distribuição das categorias"
      ]
    },
    {
      "cell_type": "code",
      "metadata": {
        "id": "1Odl4b9aiOnA",
        "colab": {
          "base_uri": "https://localhost:8080/",
          "height": 102
        },
        "outputId": "56b1dbcd-ed83-484d-8ef5-d1facf40f6d3"
      },
      "source": [
        "df.categoria.value_counts()"
      ],
      "execution_count": null,
      "outputs": [
        {
          "output_type": "execute_result",
          "data": {
            "text/plain": [
              "livro        838\n",
              "maquiagem    788\n",
              "brinquedo    668\n",
              "game         622\n",
              "Name: categoria, dtype: int64"
            ]
          },
          "metadata": {
            "tags": []
          },
          "execution_count": 17
        }
      ]
    },
    {
      "cell_type": "code",
      "metadata": {
        "id": "Rayb_bnNhtNS",
        "colab": {
          "base_uri": "https://localhost:8080/",
          "height": 102
        },
        "outputId": "10f26f2d-9d18-4c16-d2f7-dc6a8261ef06"
      },
      "source": [
        "(df.categoria.value_counts()/df.shape[0])*100\n",
        "# df.categoria.value_counts()/df.categoria.count() # outra forma"
      ],
      "execution_count": null,
      "outputs": [
        {
          "output_type": "execute_result",
          "data": {
            "text/plain": [
              "livro        28.737997\n",
              "maquiagem    27.023320\n",
              "brinquedo    22.908093\n",
              "game         21.330590\n",
              "Name: categoria, dtype: float64"
            ]
          },
          "metadata": {
            "tags": []
          },
          "execution_count": 18
        }
      ]
    },
    {
      "cell_type": "code",
      "metadata": {
        "id": "r-wbgpGck87D",
        "colab": {
          "base_uri": "https://localhost:8080/",
          "height": 278
        },
        "outputId": "4d85f4d4-dd21-4865-a910-cc8bf8b7afff"
      },
      "source": [
        "df.categoria.value_counts().plot(kind='bar', figsize=(3,3))"
      ],
      "execution_count": null,
      "outputs": [
        {
          "output_type": "execute_result",
          "data": {
            "text/plain": [
              "<matplotlib.axes._subplots.AxesSubplot at 0x7f17ac77c518>"
            ]
          },
          "metadata": {
            "tags": []
          },
          "execution_count": 19
        },
        {
          "output_type": "display_data",
          "data": {
            "image/png": "[encoded data removed]",
            "text/plain": [
              "<Figure size 216x216 with 1 Axes>"
            ]
          },
          "metadata": {
            "tags": [],
            "needs_background": "light"
          }
        }
      ]
    },
    {
      "cell_type": "code",
      "metadata": {
        "id": "7V2nr7y_jby6",
        "colab": {
          "base_uri": "https://localhost:8080/",
          "height": 281
        },
        "outputId": "39d1e347-9356-42e8-ec41-11be4642f9f4"
      },
      "source": [
        "(df.categoria.value_counts()/df.shape[0]).plot(kind='bar', figsize=(3,3))"
      ],
      "execution_count": null,
      "outputs": [
        {
          "output_type": "execute_result",
          "data": {
            "text/plain": [
              "<matplotlib.axes._subplots.AxesSubplot at 0x7f17ac72d160>"
            ]
          },
          "metadata": {
            "tags": []
          },
          "execution_count": 20
        },
        {
          "output_type": "display_data",
          "data": {
            "image/png": "[encoded data removed]",
            "text/plain": [
              "<Figure size 216x216 with 1 Axes>"
            ]
          },
          "metadata": {
            "tags": [],
            "needs_background": "light"
          }
        }
      ]
    },
    {
      "cell_type": "markdown",
      "metadata": {
        "id": "zhTMo3h0oFA7"
      },
      "source": [
        "## Mostrar as 10 palavras que mais ocorrem na descrição"
      ]
    },
    {
      "cell_type": "code",
      "metadata": {
        "id": "dUI05M9CuHAX",
        "colab": {
          "base_uri": "https://localhost:8080/",
          "height": 34
        },
        "outputId": "1a79c4f3-e287-4c0b-e6a3-0d31a82f68e5"
      },
      "source": [
        "from collections import Counter\n",
        "counter = Counter()\n",
        "counter['a'] += 2\n",
        "counter\n",
        "\n",
        "counter.update('a')\n",
        "counter.update('b')"
      ],
      "execution_count": null,
      "outputs": [
        {
          "output_type": "execute_result",
          "data": {
            "text/plain": [
              "Counter({'a': 3, 'b': 1})"
            ]
          },
          "metadata": {
            "tags": []
          },
          "execution_count": 28
        }
      ]
    },
    {
      "cell_type": "code",
      "metadata": {
        "id": "DhnC6t6Ilafr",
        "colab": {
          "base_uri": "https://localhost:8080/",
          "height": 34
        },
        "outputId": "f08cf91a-33da-476e-8ddc-a1c2e373855e"
      },
      "source": [
        "from collections import Counter # implementa um container de tipo de dados. Ex: dict, list, set, and tuple\n",
        "\n",
        "c = Counter() # subclasse dict para contar objetos"
      ],
      "execution_count": null,
      "outputs": [
        {
          "output_type": "execute_result",
          "data": {
            "text/plain": [
              "Counter()"
            ]
          },
          "metadata": {
            "tags": []
          },
          "execution_count": 30
        }
      ]
    },
    {
      "cell_type": "code",
      "metadata": {
        "id": "VYqbm7j0jxdX",
        "colab": {
          "base_uri": "https://localhost:8080/",
          "height": 221
        },
        "outputId": "968257a9-e817-459a-87f2-07e233375d20"
      },
      "source": [
        "df.descricao.str.lower().str.split() # default do split é o <espaço> como separador\n",
        "#df.dtypes"
      ],
      "execution_count": null,
      "outputs": [
        {
          "output_type": "execute_result",
          "data": {
            "text/plain": [
              "0       [produto, novobilbo, bolseiro, é, um, hobbit, ...\n",
              "1       [produto, novodurante, as, férias, escolares, ...\n",
              "2       [produto, novotodo, o, reino, de, westeros, ao...\n",
              "3       [produto, novo, e, físico, a, série, harry, po...\n",
              "4       [produto, novode, onde, viemos?, para, onde, v...\n",
              "                              ...                        \n",
              "4073    [red, dead, redemption, edição, do, ano, goty,...\n",
              "4074    [game:, gta, v, -, grand, theft, auto, fiveesp...\n",
              "4075    [envio, imediato, após, confirmaçãocom, este, ...\n",
              "4078    [nome, do, jogo:, gta, san, andreas, hd, remas...\n",
              "4079    [para, ligar, o, aparelho, pressionar, os, bot...\n",
              "Name: descricao, Length: 2916, dtype: object"
            ]
          },
          "metadata": {
            "tags": []
          },
          "execution_count": 32
        }
      ]
    },
    {
      "cell_type": "code",
      "metadata": {
        "id": "HTzKIEhyKxbw",
        "colab": {
          "base_uri": "https://localhost:8080/",
          "height": 221
        },
        "outputId": "1f086d36-8c48-4c2f-83cc-e44f3d5cbb09"
      },
      "source": [
        "df.descricao.str.lower().str.split(\" \") # tranforma a descrição em minúsculas e depois separa as pelavras pelo <espaço> e retorna no formato de lista"
      ],
      "execution_count": null,
      "outputs": [
        {
          "output_type": "execute_result",
          "data": {
            "text/plain": [
              "0       [produto, novobilbo, bolseiro, é, um, hobbit, ...\n",
              "1       [produto, novodurante, as, férias, escolares, ...\n",
              "2       [produto, novotodo, o, reino, de, westeros, ao...\n",
              "3       [produto, novo, e, físico, , a, série, harry, ...\n",
              "4       [produto, novode, onde, viemos?, para, onde, v...\n",
              "                              ...                        \n",
              "4073    [red, dead, redemption, edição, do, ano, goty,...\n",
              "4074    [game:, gta, v, -, grand, theft, auto, fiveesp...\n",
              "4075    [envio, imediato, após, confirmaçãocom, este, ...\n",
              "4078    [nome, do, jogo:, gta, san, andreas, hd, remas...\n",
              "4079    [para, ligar, o, aparelho, pressionar, os, bot...\n",
              "Name: descricao, Length: 2916, dtype: object"
            ]
          },
          "metadata": {
            "tags": []
          },
          "execution_count": 33
        }
      ]
    },
    {
      "cell_type": "code",
      "metadata": {
        "id": "vaLAnprh6KPa",
        "colab": {
          "base_uri": "https://localhost:8080/",
          "height": 187
        },
        "outputId": "442770e3-e166-44ee-bcea-e46ede53ee19"
      },
      "source": [
        "df.descricao.str.lower().str.split(\" \").apply(c.update) # implementa a contagem\n",
        "c.most_common(10)"
      ],
      "execution_count": null,
      "outputs": [
        {
          "output_type": "execute_result",
          "data": {
            "text/plain": [
              "[('de', 23835),\n",
              " ('e', 15774),\n",
              " ('o', 12238),\n",
              " ('a', 11905),\n",
              " ('do', 8657),\n",
              " ('para', 7913),\n",
              " ('em', 6798),\n",
              " ('que', 6770),\n",
              " ('-', 6220),\n",
              " ('com', 6099)]"
            ]
          },
          "metadata": {
            "tags": []
          },
          "execution_count": 37
        }
      ]
    },
    {
      "cell_type": "markdown",
      "metadata": {
        "id": "DGlRU8jXHkOr"
      },
      "source": [
        "## E as palasvras das categorias na descrição, quantas tem?"
      ]
    },
    {
      "cell_type": "code",
      "metadata": {
        "id": "k4zCstDesUSy",
        "colab": {
          "base_uri": "https://localhost:8080/",
          "height": 34
        },
        "outputId": "3a71b2ae-2a8a-4a99-f096-f74aa5f069f9"
      },
      "source": [
        "c.get('livro')\n",
        "\n",
        "# fazer para as demais categorias"
      ],
      "execution_count": null,
      "outputs": [
        {
          "output_type": "execute_result",
          "data": {
            "text/plain": [
              "545"
            ]
          },
          "metadata": {
            "tags": []
          },
          "execution_count": 39
        }
      ]
    },
    {
      "cell_type": "markdown",
      "metadata": {
        "id": "HFw7pB_-uVZX"
      },
      "source": [
        "## Nuvem de palavras!"
      ]
    },
    {
      "cell_type": "code",
      "metadata": {
        "id": "npyDF0IGs8RG",
        "colab": {
          "base_uri": "https://localhost:8080/",
          "height": 223
        },
        "outputId": "66cd4e9a-674a-40e7-8065-509ebaafd35a"
      },
      "source": [
        "import nltk\n",
        "import matplotlib.pyplot as plt\n",
        "\n",
        "try:\n",
        "  from wordcloud import WordCloud\n",
        "except:\n",
        "  !pip install wordcloud\n",
        "\n",
        "livro_words = ''\n",
        "livro = df[df.categoria == 'livro'] # filtrei a categoria livro apenas como exemplo rápido para a demostração\n",
        "\n",
        "# reune todas as plalavras em um único objeto, veja.\n",
        "for val in livro.descricao:\n",
        "  text = val.lower()\n",
        "  for words in text:\n",
        "    livro_words = livro_words + words\n",
        "    # todas as palavras das descrições da categoria livro no mesmo objeto: livro_words. As palavras são inseridas letra por letra\n",
        "\n",
        "# Gera uma imagem da nuvem de palavras (Generate a word cloud image)\n",
        "livro_wordcloud = WordCloud(width=600, height=400).generate(livro_words)\n",
        "\n",
        "# Word cloud da categoria Livro\n",
        "plt.figure( figsize=(4,4), facecolor='k')\n",
        "plt.imshow(livro_wordcloud)\n",
        "plt.axis(\"off\")\n",
        "plt.tight_layout(pad=0) # Preenchimento entre a borda e a figura\n",
        "plt.show()"
      ],
      "execution_count": null,
      "outputs": [
        {
          "output_type": "display_data",
          "data": {
            "image/png": "[encoded data removed]",
            "text/plain": [
              "<Figure size 288x288 with 1 Axes>"
            ]
          },
          "metadata": {
            "tags": []
          }
        }
      ]
    }
  ]
}