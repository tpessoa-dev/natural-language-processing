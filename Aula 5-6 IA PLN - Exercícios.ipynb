{
  "nbformat": 4,
  "nbformat_minor": 0,
  "metadata": {
    "colab": {
      "name": "Aula 5-6 IA PLN - Exercícios.ipynb",
      "provenance": [],
      "collapsed_sections": []
    },
    "kernelspec": {
      "name": "python3",
      "display_name": "Python 3"
    }
  },
  "cells": [
    {
      "cell_type": "markdown",
      "metadata": {
        "id": "0XkYIDM8FfXM"
      },
      "source": [
        "# Exercício!\n",
        "\n",
        "O código abaixo vai montar o Google Drive como um disco e torna-lo acessível para salvarmos os arquivos no drive! \n",
        "\n",
        "**É necessário apenas para quem usar o Google Colab**"
      ]
    },
    {
      "cell_type": "code",
      "metadata": {
        "id": "gxXlweBISUeW",
        "colab": {
          "base_uri": "https://localhost:8080/"
        },
        "outputId": "47f58be6-5992-4faa-8763-c29ceee428b5"
      },
      "source": [
        "from google.colab import drive\n",
        "drive.mount('/content/gdrive', force_remount=True)"
      ],
      "execution_count": 1,
      "outputs": [
        {
          "output_type": "stream",
          "text": [
            "Mounted at /content/gdrive\n"
          ],
          "name": "stdout"
        }
      ]
    },
    {
      "cell_type": "markdown",
      "metadata": {
        "id": "V9eq_MySF-Z4"
      },
      "source": [
        "A classe abaixo nos ajudará a acompanhar o progresso do download."
      ]
    },
    {
      "cell_type": "markdown",
      "metadata": {
        "id": "KWENeWYAGkjn"
      },
      "source": [
        "##**Exercício**\n",
        "\n",
        "1.   Crie uma função que substitua uma ou mais palavras de um texto um uma palavra similar com base na sua classe gramatical.\n",
        "2.   Extenda essa função para considerar uma substituição positiva ou negativa."
      ]
    },
    {
      "cell_type": "code",
      "metadata": {
        "id": "VsZnhUeTSEWs"
      },
      "source": [
        "!pip install scipy==1.2.0\n",
        "!pip install gensim==2.0.0\n",
        "#Obs: pode ser necessário reiniciar o Runtime do colab\n",
        "\n",
        "#!pip install spacy\n",
        "!python -m spacy download pt\n",
        "#!python -m spacy download pt_core_news_sm"
      ],
      "execution_count": null,
      "outputs": []
    },
    {
      "cell_type": "code",
      "metadata": {
        "id": "6RS5-IGwGHVK"
      },
      "source": [
        "from urllib.request import urlretrieve\n",
        "from os.path import isfile, isdir\n",
        "from tqdm import tqdm\n",
        "import zipfile\n",
        "\n",
        "class DLProgress(tqdm):\n",
        "  last_block = 0\n",
        "\n",
        "  def hook(self, block_num=1, block_size=1, total_size=None):\n",
        "    self.total = total_size\n",
        "    self.update((block_num - self.last_block) * block_size)\n",
        "    self.last_block = block_num"
      ],
      "execution_count": 3,
      "outputs": []
    },
    {
      "cell_type": "code",
      "metadata": {
        "id": "OPariLVhh6-T"
      },
      "source": [
        "url = 'http://143.107.183.175:22980/download.php?file=embeddings/word2vec/cbow_s300.zip'\n",
        "#url = 'https://dados-ml-pln.s3-sa-east-1.amazonaws.com/cbow_s300.zip'\n",
        "\n",
        "tar_gz_path = '/content/gdrive/My Drive/FIAP/NLP/cbow_s300.zip'\n",
        "\n",
        "if not isfile(tar_gz_path):\n",
        "  with DLProgress(unit='B', unit_scale=True, miniters=1, desc='Word2Vec Model') as pbar:\n",
        "    urlretrieve(\n",
        "        url,\n",
        "        tar_gz_path,\n",
        "        pbar.hook)\n",
        "\n",
        "if not isfile('/content/gdrive/My Drive/FIAP/NLP/cbow_s300.txt'):     \n",
        "  zip_ref = zipfile.ZipFile(tar_gz_path, 'r')\n",
        "  zip_ref.extractall('/content/gdrive/My Drive/FIAP/NLP/')\n",
        "  zip_ref.close()"
      ],
      "execution_count": null,
      "outputs": []
    },
    {
      "cell_type": "code",
      "metadata": {
        "id": "PzdSY_49kOY8",
        "colab": {
          "base_uri": "https://localhost:8080/"
        },
        "outputId": "a5c82cbc-2d19-4c6c-a83f-bdb3109988c9"
      },
      "source": [
        "!ls -all -h /content/gdrive/My\\ Drive/FIAP/NLP/cbow_s300.txt"
      ],
      "execution_count": 1,
      "outputs": [
        {
          "output_type": "stream",
          "text": [
            "-rw------- 1 root root 2.5G Feb 18 21:48 '/content/gdrive/My Drive/FIAP/NLP/cbow_s300.txt'\n"
          ],
          "name": "stdout"
        }
      ]
    },
    {
      "cell_type": "code",
      "metadata": {
        "id": "Ke7wimYDJNeR"
      },
      "source": [
        "# outro exemplo de baixar o arquivo e descompactar, só não esqueça de alterar o diretório apontando o aquivo para a raiz do colabo ao carregar o modelo\n",
        "'''\n",
        "!wget 'http://143.107.183.175:22980/download.php?file=embeddings/word2vec/cbow_s300.zip'\n",
        "!ls -la # veja o nome do arquivo compactado salvo no download\n",
        "!unzip 'download.php?file=embeddings%2Fword2vec%2Fcbow_s300.zip' # subistitua com nome do arquivo\n",
        "!ls -la\n",
        "'''"
      ],
      "execution_count": null,
      "outputs": []
    },
    {
      "cell_type": "code",
      "metadata": {
        "id": "EOrQB1XHkGOo",
        "colab": {
          "base_uri": "https://localhost:8080/"
        },
        "outputId": "9878dbfc-06b0-472f-c247-4902615bb320"
      },
      "source": [
        "from gensim.models import KeyedVectors\n",
        "\n",
        "model = KeyedVectors.load_word2vec_format('/content/gdrive/My Drive/FIAP/NLP/cbow_s300.txt')"
      ],
      "execution_count": 3,
      "outputs": [
        {
          "output_type": "stream",
          "text": [
            "Slow version of gensim.models.doc2vec is being used\n"
          ],
          "name": "stderr"
        }
      ]
    },
    {
      "cell_type": "code",
      "metadata": {
        "colab": {
          "base_uri": "https://localhost:8080/"
        },
        "id": "ThdXV7tE7b5J",
        "outputId": "06c48d60-3cc3-4e18-f359-3f98a6fdb4c8"
      },
      "source": [
        "model"
      ],
      "execution_count": 9,
      "outputs": [
        {
          "output_type": "execute_result",
          "data": {
            "text/plain": [
              "<gensim.models.keyedvectors.KeyedVectors at 0x7f7692322a90>"
            ]
          },
          "metadata": {
            "tags": []
          },
          "execution_count": 9
        }
      ]
    },
    {
      "cell_type": "markdown",
      "metadata": {
        "id": "fOw4Sb707chQ"
      },
      "source": [
        "Exemplo 1:"
      ]
    },
    {
      "cell_type": "code",
      "metadata": {
        "id": "aLZQGbsj7f-Y"
      },
      "source": [
        "import spacy\n",
        "pt = spacy.load('pt')"
      ],
      "execution_count": 8,
      "outputs": []
    },
    {
      "cell_type": "code",
      "metadata": {
        "colab": {
          "base_uri": "https://localhost:8080/"
        },
        "id": "tnrJo4Cs7f8F",
        "outputId": "83cc01d4-5b26-4030-cea3-9c19b21b65a2"
      },
      "source": [
        "texto = 'Você é baixo'\n",
        "\n",
        "for token in pt(texto):\n",
        "  print(token.text, ' - ', token.pos_)"
      ],
      "execution_count": 10,
      "outputs": [
        {
          "output_type": "stream",
          "text": [
            "Você  -  PRON\n",
            "é  -  VERB\n",
            "baixo  -  ADJ\n"
          ],
          "name": "stdout"
        }
      ]
    },
    {
      "cell_type": "code",
      "metadata": {
        "colab": {
          "base_uri": "https://localhost:8080/",
          "height": 34
        },
        "id": "I-tGBLdr7f5k",
        "outputId": "ecbb0bc8-a0b9-43bf-e9b0-6fceb3a36f82"
      },
      "source": [
        "texto = 'Você é baixo'\n",
        "pt(texto)[2].pos_"
      ],
      "execution_count": 11,
      "outputs": [
        {
          "output_type": "execute_result",
          "data": {
            "application/vnd.google.colaboratory.intrinsic+json": {
              "type": "string"
            },
            "text/plain": [
              "'ADJ'"
            ]
          },
          "metadata": {
            "tags": []
          },
          "execution_count": 11
        }
      ]
    },
    {
      "cell_type": "code",
      "metadata": {
        "colab": {
          "base_uri": "https://localhost:8080/"
        },
        "id": "tq75xV4b7f3L",
        "outputId": "b382b2a6-80e9-4b88-b9e4-0e4a92c3792b"
      },
      "source": [
        " model.most_similar_cosmul(positive=['baixo'],)"
      ],
      "execution_count": 12,
      "outputs": [
        {
          "output_type": "execute_result",
          "data": {
            "text/plain": [
              "[('alto', 0.85185706615448),\n",
              " ('elevado', 0.7905384302139282),\n",
              " ('baixíssimo', 0.7482064366340637),\n",
              " ('altíssimo', 0.7426224946975708),\n",
              " ('elevadíssimo', 0.7309994697570801),\n",
              " ('reduzido', 0.7289093732833862),\n",
              " ('fraco', 0.7261129021644592),\n",
              " ('ele-vado', 0.7119198441505432),\n",
              " ('eleva-do', 0.7061087489128113),\n",
              " ('bai-xo', 0.6976011991500854)]"
            ]
          },
          "metadata": {
            "tags": []
          },
          "execution_count": 12
        }
      ]
    },
    {
      "cell_type": "code",
      "metadata": {
        "id": "bc7oVUrR7mJG"
      },
      "source": [
        "import spacy\n",
        "\n",
        "#pt = spacy.load('pt_core_news_sm')\n",
        "pt = spacy.load('pt')\n",
        "\n",
        "def trocar_por_similar(frase, pos):\n",
        "  doc = pt(frase)\n",
        "  \n",
        "  nova_frase = []\n",
        "  for token in doc:\n",
        "    if token.pos_ == pos:\n",
        "      similares = model.most_similar_cosmul(positive=[token.text] )\n",
        "      for similar, _ in similares:\n",
        "        if similar != token.text:\n",
        "          break\n",
        "      nova_frase.append(similar)\n",
        "    else:\n",
        "      nova_frase.append(token.text)\n",
        "  return ' '.join(nova_frase)  "
      ],
      "execution_count": 13,
      "outputs": []
    },
    {
      "cell_type": "code",
      "metadata": {
        "colab": {
          "base_uri": "https://localhost:8080/",
          "height": 34
        },
        "id": "WcS7cEUO7mGk",
        "outputId": "87e3c04f-62a7-49f7-b217-06f6e7efe8e7"
      },
      "source": [
        "pt('Você é baixo')[2].pos_"
      ],
      "execution_count": 14,
      "outputs": [
        {
          "output_type": "execute_result",
          "data": {
            "application/vnd.google.colaboratory.intrinsic+json": {
              "type": "string"
            },
            "text/plain": [
              "'ADJ'"
            ]
          },
          "metadata": {
            "tags": []
          },
          "execution_count": 14
        }
      ]
    },
    {
      "cell_type": "code",
      "metadata": {
        "colab": {
          "base_uri": "https://localhost:8080/"
        },
        "id": "BCruBWMN7l-l",
        "outputId": "4d655bff-ac83-4ce0-a2bb-0c7c67de5b76"
      },
      "source": [
        "print(trocar_por_similar('Você é baixo', 'ADJ'))"
      ],
      "execution_count": 15,
      "outputs": [
        {
          "output_type": "stream",
          "text": [
            "Você é alto\n"
          ],
          "name": "stdout"
        }
      ]
    },
    {
      "cell_type": "markdown",
      "metadata": {
        "id": "iNXZCwyn7tH0"
      },
      "source": [
        "Exemplo 2:"
      ]
    },
    {
      "cell_type": "code",
      "metadata": {
        "id": "o-_zF6sd7raO"
      },
      "source": [
        "import spacy\n",
        "\n",
        "#pt = spacy.load('pt_core_news_sm')\n",
        "pt = spacy.load('pt')\n",
        "\n",
        "def trocar_por_similar(frase, pos, sentido):\n",
        "  doc = pt(frase)\n",
        "  \n",
        "  nova_frase = []\n",
        "  for token in doc:\n",
        "    if token.pos_ == pos:\n",
        "      similares = model.most_similar_cosmul(positive=[token.text], negative=[sentido] )\n",
        "      for similar, _ in similares:\n",
        "        if similar != token.text:\n",
        "          break\n",
        "      nova_frase.append(similar)\n",
        "    else:\n",
        "      nova_frase.append(token.text)\n",
        "  return ' '.join(nova_frase)"
      ],
      "execution_count": 16,
      "outputs": []
    },
    {
      "cell_type": "code",
      "metadata": {
        "colab": {
          "base_uri": "https://localhost:8080/",
          "height": 34
        },
        "id": "uwzoDupy7rX6",
        "outputId": "c7ba89c4-34c8-48b7-bfca-301e493b410c"
      },
      "source": [
        "pt('Você é muito alto')[3].pos_"
      ],
      "execution_count": 17,
      "outputs": [
        {
          "output_type": "execute_result",
          "data": {
            "application/vnd.google.colaboratory.intrinsic+json": {
              "type": "string"
            },
            "text/plain": [
              "'ADJ'"
            ]
          },
          "metadata": {
            "tags": []
          },
          "execution_count": 17
        }
      ]
    },
    {
      "cell_type": "code",
      "metadata": {
        "colab": {
          "base_uri": "https://localhost:8080/"
        },
        "id": "5A-jpMzR7rVP",
        "outputId": "05b9029e-8a29-458d-cc6f-2b1f60ac1ce4"
      },
      "source": [
        "print(trocar_por_similar('Você é muito baixo', 'ADJ', 'magro'))"
      ],
      "execution_count": 18,
      "outputs": [
        {
          "output_type": "stream",
          "text": [
            "Você é muito altíssimo\n"
          ],
          "name": "stdout"
        }
      ]
    }
  ]
}